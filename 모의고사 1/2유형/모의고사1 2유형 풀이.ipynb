{
 "cells": [
  {
   "cell_type": "markdown",
   "metadata": {
    "id": "wmrnVE3WpXT8"
   },
   "source": [
    "튜토리얼을 위해 노트북으로 작성하였습니다. 유사한 시험환경을 위해 스크립트 모드로 작성해 보세요!!"
   ]
  },
  {
   "cell_type": "code",
   "execution_count": null,
   "metadata": {
    "execution": {
     "iopub.execute_input": "2021-12-01T12:36:25.718185Z",
     "iopub.status.busy": "2021-12-01T12:36:25.717599Z",
     "iopub.status.idle": "2021-12-01T12:36:25.829962Z",
     "shell.execute_reply": "2021-12-01T12:36:25.829073Z",
     "shell.execute_reply.started": "2021-12-01T12:36:25.718078Z"
    },
    "id": "UMGZUrZ0pXT-"
   },
   "outputs": [],
   "source": [
    "################## 시험 안내 문구 및 코드 ##################\n",
    "# 출력을 원하실 경우 print() 함수 활용\n",
    "# 예시) print(df.head())\n",
    "\n",
    "# getcwd(), chdir() 등 작업 폴더 설정 불필요\n",
    "# 파일 경로 상 내부 드라이브 경로(C: 등) 접근 불가\n",
    "\n",
    "# 데이터 파일 읽기 예제\n",
    "import pandas as pd\n",
    "X_test = pd.read_csv(\"../input/hr-data/X_test.csv\")\n",
    "X_train = pd.read_csv(\"../input/hr-data/X_train.csv\")\n",
    "y_train = pd.read_csv(\"../input/hr-data/y_train.csv\")\n",
    "\n",
    "# 사용자 코딩\n",
    "\n",
    "# 답안 제출 참고\n",
    "# 아래 코드 예측변수와 수험번호를 개인별로 변경하여 활용\n",
    "# pd.DataFrame({'enrollee_id': X_test.enrollee_id, 'target': pred}).to_csv('003000000.csv', index=False)"
   ]
  },
  {
   "cell_type": "markdown",
   "metadata": {
    "id": "C7oD45cWpXT_"
   },
   "source": [
    "# EDA"
   ]
  },
  {
   "cell_type": "code",
   "execution_count": null,
   "metadata": {
    "execution": {
     "iopub.execute_input": "2021-12-01T12:36:25.832367Z",
     "iopub.status.busy": "2021-12-01T12:36:25.831728Z",
     "iopub.status.idle": "2021-12-01T12:36:25.841373Z",
     "shell.execute_reply": "2021-12-01T12:36:25.840324Z",
     "shell.execute_reply.started": "2021-12-01T12:36:25.832321Z"
    },
    "id": "kgSTlmrSpXUA"
   },
   "outputs": [],
   "source": [
    "# 데이터 크기 확인\n",
    "X_train.shape, y_train.shape, X_test.shape"
   ]
  },
  {
   "cell_type": "code",
   "execution_count": null,
   "metadata": {
    "execution": {
     "iopub.execute_input": "2021-12-01T12:36:25.843132Z",
     "iopub.status.busy": "2021-12-01T12:36:25.842737Z",
     "iopub.status.idle": "2021-12-01T12:36:25.870875Z",
     "shell.execute_reply": "2021-12-01T12:36:25.870296Z",
     "shell.execute_reply.started": "2021-12-01T12:36:25.843037Z"
    },
    "id": "twINQVUdpXUA"
   },
   "outputs": [],
   "source": [
    "# 데이터 샘플 확인\n",
    "X_train.head()"
   ]
  },
  {
   "cell_type": "code",
   "execution_count": null,
   "metadata": {
    "execution": {
     "iopub.execute_input": "2021-12-01T12:36:25.872358Z",
     "iopub.status.busy": "2021-12-01T12:36:25.871902Z",
     "iopub.status.idle": "2021-12-01T12:36:25.879929Z",
     "shell.execute_reply": "2021-12-01T12:36:25.879103Z",
     "shell.execute_reply.started": "2021-12-01T12:36:25.872325Z"
    },
    "id": "XiQj_-eopXUB"
   },
   "outputs": [],
   "source": [
    "# 예측 해야할 타겟 샘플 확인 (0과 1이지만 문제에서는 확률값으로 예측하라고 되어 있음)\n",
    "y_train.head()"
   ]
  },
  {
   "cell_type": "code",
   "execution_count": null,
   "metadata": {
    "execution": {
     "iopub.execute_input": "2021-12-01T12:36:25.882536Z",
     "iopub.status.busy": "2021-12-01T12:36:25.881961Z",
     "iopub.status.idle": "2021-12-01T12:36:25.900166Z",
     "shell.execute_reply": "2021-12-01T12:36:25.899423Z",
     "shell.execute_reply.started": "2021-12-01T12:36:25.882495Z"
    },
    "id": "eReueJ8HpXUC"
   },
   "outputs": [],
   "source": [
    "# 예측할 데이터 균형 확인\n",
    "y_train['target'].value_counts()"
   ]
  },
  {
   "cell_type": "code",
   "execution_count": null,
   "metadata": {
    "execution": {
     "iopub.execute_input": "2021-12-01T12:36:25.902404Z",
     "iopub.status.busy": "2021-12-01T12:36:25.901578Z",
     "iopub.status.idle": "2021-12-01T12:36:25.938111Z",
     "shell.execute_reply": "2021-12-01T12:36:25.937281Z",
     "shell.execute_reply.started": "2021-12-01T12:36:25.902363Z"
    },
    "id": "FyCtXI_SpXUC"
   },
   "outputs": [],
   "source": [
    "# 데이터 타입 확인\n",
    "print(X_train.info())"
   ]
  },
  {
   "cell_type": "code",
   "execution_count": null,
   "metadata": {
    "execution": {
     "iopub.execute_input": "2021-12-01T12:36:25.941181Z",
     "iopub.status.busy": "2021-12-01T12:36:25.940361Z",
     "iopub.status.idle": "2021-12-01T12:36:25.963742Z",
     "shell.execute_reply": "2021-12-01T12:36:25.963039Z",
     "shell.execute_reply.started": "2021-12-01T12:36:25.941137Z"
    },
    "id": "g4zvYOEnpXUD"
   },
   "outputs": [],
   "source": [
    "# 결측치 확인\n",
    "print(\"##Train##\")\n",
    "print(X_train.isnull().sum())\n",
    "print(\"\\n##Test##\")\n",
    "print(X_test.isnull().sum())"
   ]
  },
  {
   "cell_type": "code",
   "execution_count": null,
   "metadata": {
    "execution": {
     "iopub.execute_input": "2021-12-01T12:36:25.966402Z",
     "iopub.status.busy": "2021-12-01T12:36:25.965289Z",
     "iopub.status.idle": "2021-12-01T12:36:25.980855Z",
     "shell.execute_reply": "2021-12-01T12:36:25.98007Z",
     "shell.execute_reply.started": "2021-12-01T12:36:25.966359Z"
    },
    "id": "vcSx9ONbpXUE"
   },
   "outputs": [],
   "source": [
    "# 이상치IQR\n",
    "# training_hours\n",
    "import numpy as np\n",
    "Q1 = np.percentile(X_train['training_hours'],25)\n",
    "Q3 = np.percentile(X_train['training_hours'],75)\n",
    "IQR = Q3 - Q1\n",
    "outdata1 = X_train[X_train['training_hours']<(Q1 - 1.5 * IQR)]\n",
    "outdata2 = X_train[X_train['training_hours']>(Q3 + 1.5 * IQR)]\n",
    "len(outdata1), len(outdata2)\n",
    "# 삭제하긴 많음"
   ]
  },
  {
   "cell_type": "code",
   "execution_count": null,
   "metadata": {
    "execution": {
     "iopub.execute_input": "2021-12-01T12:36:25.982648Z",
     "iopub.status.busy": "2021-12-01T12:36:25.982311Z",
     "iopub.status.idle": "2021-12-01T12:36:25.994278Z",
     "shell.execute_reply": "2021-12-01T12:36:25.993322Z",
     "shell.execute_reply.started": "2021-12-01T12:36:25.982618Z"
    },
    "id": "QCsU2yPSpXUE"
   },
   "outputs": [],
   "source": [
    "# city_development_index\n",
    "Q1 = np.percentile(X_train['city_development_index'],25)\n",
    "Q3 = np.percentile(X_train['city_development_index'],75)\n",
    "IQR = Q3 - Q1\n",
    "outdata1 = X_train[X_train['city_development_index']<(Q1 - 1.5 * IQR)]\n",
    "outdata2 = X_train[X_train['city_development_index']>(Q3 + 1.5 * IQR)]\n",
    "len(outdata1), len(outdata2)\n",
    "#삭제 예정"
   ]
  },
  {
   "cell_type": "code",
   "execution_count": null,
   "metadata": {
    "execution": {
     "iopub.execute_input": "2021-12-01T12:36:25.996115Z",
     "iopub.status.busy": "2021-12-01T12:36:25.995895Z",
     "iopub.status.idle": "2021-12-01T12:36:26.026152Z",
     "shell.execute_reply": "2021-12-01T12:36:26.025584Z",
     "shell.execute_reply.started": "2021-12-01T12:36:25.996089Z"
    },
    "id": "QyANROlNpXUF"
   },
   "outputs": [],
   "source": [
    "# 데이터 확인\n",
    "obj_cols = np.array(X_train.columns[X_train.dtypes == object])\n",
    "for col in obj_cols:\n",
    "    print(\"\\n##### : \",col)\n",
    "    print(X_train[col].value_counts())\n",
    "obj_cols"
   ]
  },
  {
   "cell_type": "markdown",
   "metadata": {
    "id": "fOKgriQxpXUF"
   },
   "source": [
    "# 데이터 전처리"
   ]
  },
  {
   "cell_type": "code",
   "execution_count": null,
   "metadata": {
    "execution": {
     "iopub.execute_input": "2021-12-01T12:36:26.027826Z",
     "iopub.status.busy": "2021-12-01T12:36:26.027114Z",
     "iopub.status.idle": "2021-12-01T12:36:26.048166Z",
     "shell.execute_reply": "2021-12-01T12:36:26.047305Z",
     "shell.execute_reply.started": "2021-12-01T12:36:26.027778Z"
    },
    "id": "I401QXuApXUF"
   },
   "outputs": [],
   "source": [
    "# 심플 결측치 처리\n",
    "X_train = X_train.fillna(\"X\")\n",
    "X_test = X_test.fillna(\"X\")"
   ]
  },
  {
   "cell_type": "code",
   "execution_count": null,
   "metadata": {
    "execution": {
     "iopub.execute_input": "2021-12-01T12:36:26.049735Z",
     "iopub.status.busy": "2021-12-01T12:36:26.04944Z",
     "iopub.status.idle": "2021-12-01T12:36:26.070006Z",
     "shell.execute_reply": "2021-12-01T12:36:26.069312Z",
     "shell.execute_reply.started": "2021-12-01T12:36:26.049688Z"
    },
    "id": "lmvYD0QZpXUF"
   },
   "outputs": [],
   "source": [
    "# 이상치 삭제\n",
    "print(X_train.shape)\n",
    "ind = X_train[X_train['city_development_index']<(Q1 - 1.5 * IQR)].index\n",
    "X_train = X_train.drop(index=ind, axis=0)\n",
    "y_train = y_train.drop(index=ind, axis=0)\n",
    "\n",
    "print(X_train.shape)"
   ]
  },
  {
   "cell_type": "markdown",
   "metadata": {
    "id": "cA89ZHJ7pXUG"
   },
   "source": [
    "# 피처 엔지니어링"
   ]
  },
  {
   "cell_type": "code",
   "execution_count": null,
   "metadata": {
    "execution": {
     "iopub.execute_input": "2021-12-01T12:36:26.07151Z",
     "iopub.status.busy": "2021-12-01T12:36:26.07127Z",
     "iopub.status.idle": "2021-12-01T12:36:26.986303Z",
     "shell.execute_reply": "2021-12-01T12:36:26.985578Z",
     "shell.execute_reply.started": "2021-12-01T12:36:26.071483Z"
    },
    "id": "jgvT2W_7pXUG"
   },
   "outputs": [],
   "source": [
    "from sklearn.preprocessing import LabelEncoder\n",
    "\n",
    "all_df = pd.concat([X_train.assign(ind=\"train\"), X_test.assign(ind=\"test\")])\n",
    "le = LabelEncoder()\n",
    "all_df[obj_cols] = all_df[obj_cols].apply(le.fit_transform)\n",
    "\n",
    "X_train = all_df[all_df['ind'] == 'train']\n",
    "X_train = X_train.drop('ind',axis=1)\n",
    "X_train\n",
    "\n",
    "X_test = all_df[all_df['ind'] == 'test']\n",
    "X_test = X_test.drop('ind',axis=1)\n",
    "X_test"
   ]
  },
  {
   "cell_type": "code",
   "execution_count": null,
   "metadata": {
    "execution": {
     "iopub.execute_input": "2021-12-01T12:36:26.988966Z",
     "iopub.status.busy": "2021-12-01T12:36:26.988551Z",
     "iopub.status.idle": "2021-12-01T12:36:27.015396Z",
     "shell.execute_reply": "2021-12-01T12:36:27.014799Z",
     "shell.execute_reply.started": "2021-12-01T12:36:26.988928Z"
    },
    "id": "qaxMv56rpXUG"
   },
   "outputs": [],
   "source": [
    "# 스케일링\n",
    "from sklearn.preprocessing import RobustScaler\n",
    "scaler = RobustScaler()\n",
    "\n",
    "n_cols = ['city_development_index', 'training_hours']\n",
    "X_train[n_cols] = scaler.fit_transform(X_train[n_cols])\n",
    "X_test[n_cols] = scaler.transform(X_test[n_cols])\n",
    "X_train"
   ]
  },
  {
   "cell_type": "markdown",
   "metadata": {
    "id": "3swueXWDpXUG"
   },
   "source": [
    "# 데이터 분리"
   ]
  },
  {
   "cell_type": "code",
   "execution_count": null,
   "metadata": {
    "execution": {
     "iopub.execute_input": "2021-12-01T12:36:27.016953Z",
     "iopub.status.busy": "2021-12-01T12:36:27.016571Z",
     "iopub.status.idle": "2021-12-01T12:36:27.077908Z",
     "shell.execute_reply": "2021-12-01T12:36:27.077357Z",
     "shell.execute_reply.started": "2021-12-01T12:36:27.016924Z"
    },
    "id": "V2AM-nSVpXUH"
   },
   "outputs": [],
   "source": [
    "# 학습용 데이터와 검증용 데이터로 구분\n",
    "# 학습에 많은 데이터를 사용하기 위해 검증은 작게 가져감\n",
    "from sklearn.model_selection import train_test_split\n",
    "\n",
    "\n",
    "X_tr, X_val, y_tr, y_val = train_test_split(X_train, y_train['target'], test_size=0.1, random_state=2022)\n",
    "X_tr.shape, X_val.shape, y_tr.shape, y_val.shape"
   ]
  },
  {
   "cell_type": "markdown",
   "metadata": {
    "id": "YHR8jkQxpXUH"
   },
   "source": [
    "# 모델 학습 및 평가"
   ]
  },
  {
   "cell_type": "code",
   "execution_count": null,
   "metadata": {
    "execution": {
     "iopub.execute_input": "2021-12-01T12:36:27.079528Z",
     "iopub.status.busy": "2021-12-01T12:36:27.079092Z",
     "iopub.status.idle": "2021-12-01T12:36:29.824626Z",
     "shell.execute_reply": "2021-12-01T12:36:29.823781Z",
     "shell.execute_reply.started": "2021-12-01T12:36:27.079497Z"
    },
    "id": "zFacshNKpXUH"
   },
   "outputs": [],
   "source": [
    "from sklearn.ensemble import RandomForestClassifier\n",
    "from sklearn.metrics import roc_auc_score\n",
    "rf = RandomForestClassifier(random_state = 2022)\n",
    "rf.fit(X_tr, y_tr)\n",
    "pred = rf.predict_proba(X_val)[:,1]\n",
    "print(roc_auc_score(y_val, pred))"
   ]
  },
  {
   "cell_type": "markdown",
   "metadata": {
    "id": "moR-QXoZpXUH"
   },
   "source": [
    "# 제출용"
   ]
  },
  {
   "cell_type": "code",
   "execution_count": null,
   "metadata": {
    "execution": {
     "iopub.execute_input": "2021-12-01T12:36:29.826144Z",
     "iopub.status.busy": "2021-12-01T12:36:29.825822Z",
     "iopub.status.idle": "2021-12-01T12:36:29.900073Z",
     "shell.execute_reply": "2021-12-01T12:36:29.899182Z",
     "shell.execute_reply.started": "2021-12-01T12:36:29.826103Z"
    },
    "id": "P0J332W_pXUI"
   },
   "outputs": [],
   "source": [
    "# Test데이터\n",
    "pred = rf.predict_proba(X_test)[:,1]"
   ]
  },
  {
   "cell_type": "code",
   "execution_count": null,
   "metadata": {
    "execution": {
     "iopub.execute_input": "2021-12-01T12:36:29.901583Z",
     "iopub.status.busy": "2021-12-01T12:36:29.90138Z",
     "iopub.status.idle": "2021-12-01T12:36:29.911931Z",
     "shell.execute_reply": "2021-12-01T12:36:29.911286Z",
     "shell.execute_reply.started": "2021-12-01T12:36:29.901558Z"
    },
    "id": "RczqiBBbpXUI"
   },
   "outputs": [],
   "source": [
    "# csv생성코드\n",
    "pd.DataFrame({'enrollee_id': X_test.enrollee_id, 'target': pred}).to_csv('003000000.csv', index=False)"
   ]
  },
  {
   "cell_type": "markdown",
   "metadata": {
    "id": "xEuzuYmgpXUI"
   },
   "source": [
    "# 체점"
   ]
  },
  {
   "cell_type": "code",
   "execution_count": null,
   "metadata": {
    "execution": {
     "iopub.execute_input": "2021-12-01T12:36:29.913553Z",
     "iopub.status.busy": "2021-12-01T12:36:29.913318Z",
     "iopub.status.idle": "2021-12-01T12:36:29.928326Z",
     "shell.execute_reply": "2021-12-01T12:36:29.927663Z",
     "shell.execute_reply.started": "2021-12-01T12:36:29.91352Z"
    },
    "id": "F2ZtmODJpXUJ"
   },
   "outputs": [],
   "source": [
    "# 체점\n",
    "import pickle\n",
    "import numpy as np\n",
    "from sklearn.metrics import roc_auc_score\n",
    "\n",
    "with open( \"../input/hr-data/answer.pickle\", \"rb\" ) as file:\n",
    "    ans = pickle.load(file)\n",
    "    ans = pd.DataFrame(ans)\n",
    "print(roc_auc_score(ans['target'], pred))"
   ]
  }
 ],
 "metadata": {
  "colab": {
   "name": "[MOCK EXAM] T2. Baseline Tutorial",
   "provenance": []
  },
  "kernelspec": {
   "display_name": "Python 3 (ipykernel)",
   "language": "python",
   "name": "python3"
  },
  "language_info": {
   "codemirror_mode": {
    "name": "ipython",
    "version": 3
   },
   "file_extension": ".py",
   "mimetype": "text/x-python",
   "name": "python",
   "nbconvert_exporter": "python",
   "pygments_lexer": "ipython3",
   "version": "3.12.4"
  }
 },
 "nbformat": 4,
 "nbformat_minor": 4
}
