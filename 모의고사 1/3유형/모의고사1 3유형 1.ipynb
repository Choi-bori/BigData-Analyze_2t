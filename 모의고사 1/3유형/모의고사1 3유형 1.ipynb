{
  "metadata": {
    "kernelspec": {
      "language": "python",
      "display_name": "Python 3",
      "name": "python3"
    },
    "language_info": {
      "pygments_lexer": "ipython3",
      "nbconvert_exporter": "python",
      "version": "3.6.4",
      "file_extension": ".py",
      "codemirror_mode": {
        "name": "ipython",
        "version": 3
      },
      "name": "python",
      "mimetype": "text/x-python"
    },
    "colab": {
      "name": "T3-example 예시문제",
      "provenance": []
    }
  },
  "nbformat_minor": 0,
  "nbformat": 4,
  "cells": [
    {
      "source": [
        "# IMPORTANT: RUN THIS CELL IN ORDER TO IMPORT YOUR KAGGLE DATA SOURCES,\n",
        "# THEN FEEL FREE TO DELETE THIS CELL.\n",
        "# NOTE: THIS NOTEBOOK ENVIRONMENT DIFFERS FROM KAGGLE'S PYTHON\n",
        "# ENVIRONMENT SO THERE MAY BE MISSING LIBRARIES USED BY YOUR\n",
        "# NOTEBOOK.\n",
        "import kagglehub\n",
        "agileteam_bigdatacertificationkr_path = kagglehub.dataset_download('agileteam/bigdatacertificationkr')\n",
        "\n",
        "print('Data source import complete.')\n"
      ],
      "metadata": {
        "id": "o_nEZn0Pu_0l"
      },
      "cell_type": "code",
      "outputs": [],
      "execution_count": null
    },
    {
      "cell_type": "markdown",
      "source": [
        "## 주어진 데이터는 고혈압 환자 치료 전후의 혈압이다. 해당 치료가 효과가 있는지 대응(쌍체)표본 t-검정을 진행하시오\n",
        "- 귀무가설(H0): $\\mu$ >= 0\n",
        "- 대립가설(H1): $\\mu$ < 0\n",
        "- $\\mu$ = (치료 후 혈압 - 치료 전 혈압)의 평균\n",
        "- 유의수준: 0.05\n",
        "\n",
        "1. $\\mu$의 표본평균은?(소수 둘째자리까지 반올림)\n",
        "2. 검정통계량 값은?(소수 넷째자리까지 반올림)\n",
        "3. p-값은?(소수 넷째자리까지 반올림)\n",
        "4. 가설검정의 결과는? (유의수준 5%)"
      ],
      "metadata": {
        "id": "06SgOrAku_0m"
      }
    },
    {
      "cell_type": "code",
      "source": [
        "import pandas as pd\n",
        "pd = pd.read_csv(\"/kaggle/input/bigdatacertificationkr/high_blood_pressure.csv\")\n",
        "\n",
        "# your code\n",
        "\n",
        "\n",
        "\n",
        "\n",
        "\n",
        "\n",
        "\n",
        "\n",
        "\n"
      ],
      "metadata": {
        "_uuid": "8f2839f25d086af736a60e9eeb907d3b93b6e0e5",
        "_cell_guid": "b1076dfc-b9ad-4769-8c92-a6c4dae69d19",
        "trusted": true,
        "id": "Btrgezl8u_0o"
      },
      "execution_count": null,
      "outputs": []
    },
    {
      "cell_type": "markdown",
      "source": [
        "## 풀이"
      ],
      "metadata": {
        "id": "FJrqE__cu_0p"
      }
    },
    {
      "cell_type": "code",
      "source": [
        "import pandas as pd\n",
        "from scipy import stats\n",
        "df = pd.read_csv(\"/kaggle/input/bigdatacertificationkr/high_blood_pressure.csv\")\n",
        "\n",
        "df['diff'] = df['bp_post'] - df['bp_pre']\n",
        "\n",
        "#1\n",
        "print(round(df['diff'].mean(),2))\n",
        "\n",
        "#2\n",
        "st, pv = stats.ttest_rel(df['bp_post'], df['bp_pre'], alternative=\"less\")\n",
        "print(round(st,4))\n",
        "\n",
        "#3\n",
        "print(round(pv,4))\n",
        "\n",
        "#4 귀무가설 기각, 대립가설 채택"
      ],
      "metadata": {
        "execution": {
          "iopub.status.busy": "2023-05-14T18:35:18.522914Z",
          "iopub.execute_input": "2023-05-14T18:35:18.523345Z",
          "iopub.status.idle": "2023-05-14T18:35:18.548064Z",
          "shell.execute_reply.started": "2023-05-14T18:35:18.523315Z",
          "shell.execute_reply": "2023-05-14T18:35:18.546872Z"
        },
        "trusted": true,
        "id": "8SBF14iqu_0p"
      },
      "execution_count": null,
      "outputs": []
    },
    {
      "cell_type": "markdown",
      "source": [
        "[풀이영상](https://bit.ly/3HnIBN7)"
      ],
      "metadata": {
        "id": "_huaK7M3u_0q"
      }
    },
    {
      "cell_type": "code",
      "source": [],
      "metadata": {
        "id": "HydzMnzSu_0r"
      },
      "execution_count": null,
      "outputs": []
    }
  ]
}