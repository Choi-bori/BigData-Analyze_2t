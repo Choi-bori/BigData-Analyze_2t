{
  "metadata": {
    "kernelspec": {
      "language": "python",
      "display_name": "Python 3",
      "name": "python3"
    },
    "language_info": {
      "pygments_lexer": "ipython3",
      "nbconvert_exporter": "python",
      "version": "3.6.4",
      "file_extension": ".py",
      "codemirror_mode": {
        "name": "ipython",
        "version": 3
      },
      "name": "python",
      "mimetype": "text/x-python"
    },
    "kaggle": {
      "accelerator": "none",
      "dataSources": [
        {
          "sourceId": 9661112,
          "sourceType": "datasetVersion",
          "datasetId": 1633303
        }
      ],
      "dockerImageVersionId": 30145,
      "isInternetEnabled": false,
      "language": "python",
      "sourceType": "notebook",
      "isGpuEnabled": false
    },
    "colab": {
      "provenance": []
    }
  },
  "nbformat_minor": 0,
  "nbformat": 4,
  "cells": [
    {
      "cell_type": "code",
      "source": [
        "import pandas as pd"
      ],
      "metadata": {
        "_uuid": "8f2839f25d086af736a60e9eeb907d3b93b6e0e5",
        "_cell_guid": "b1076dfc-b9ad-4769-8c92-a6c4dae69d19",
        "execution": {
          "iopub.status.busy": "2021-12-01T13:04:40.411737Z",
          "iopub.execute_input": "2021-12-01T13:04:40.412046Z",
          "iopub.status.idle": "2021-12-01T13:04:40.417068Z",
          "shell.execute_reply.started": "2021-12-01T13:04:40.412013Z",
          "shell.execute_reply": "2021-12-01T13:04:40.415687Z"
        },
        "trusted": true,
        "id": "-leXytuJmiXS"
      },
      "outputs": [],
      "execution_count": null
    },
    {
      "cell_type": "code",
      "source": [
        "# 데이터 경로 바꾸시오\n",
        "df = pd.read_csv(\"basic1.csv\")\n",
        "df.head()"
      ],
      "metadata": {
        "execution": {
          "iopub.status.busy": "2021-12-01T13:04:40.422756Z",
          "iopub.execute_input": "2021-12-01T13:04:40.423764Z",
          "iopub.status.idle": "2021-12-01T13:04:40.450392Z",
          "shell.execute_reply.started": "2021-12-01T13:04:40.423714Z",
          "shell.execute_reply": "2021-12-01T13:04:40.449748Z"
        },
        "trusted": true,
        "id": "dOLUxhn2miXU"
      },
      "outputs": [],
      "execution_count": null
    },
    {
      "cell_type": "markdown",
      "source": [
        "## 1. 첫번째 데이터 부터 순서대로 50:50으로 데이터를 나누고, 앞에서 부터 50%의 데이터(이하, A그룹)는 'f1'컬럼의 결측치를 A그룹의 중앙값으로 채우고, 뒤에서부터 50% 데이터(이하, B그룹)는 'f1'컬럼의 결측치를 B그룹의 최대값으로 채운 후, A그룹과 B그룹의 표준편차 합을 구하시오\n",
        "### 단, 소수점 첫째자리까지 구하시오 (둘째자리에서 반올림)"
      ],
      "metadata": {
        "id": "fTVxB39GmiXW"
      }
    },
    {
      "cell_type": "code",
      "source": [
        "df = pd.read_csv(\"basic1.csv\")\n",
        "df.shape"
      ],
      "metadata": {
        "execution": {
          "iopub.status.busy": "2021-12-01T13:04:40.451665Z",
          "iopub.execute_input": "2021-12-01T13:04:40.452288Z",
          "iopub.status.idle": "2021-12-01T13:04:40.461419Z",
          "shell.execute_reply.started": "2021-12-01T13:04:40.452255Z",
          "shell.execute_reply": "2021-12-01T13:04:40.460513Z"
        },
        "trusted": true,
        "id": "hWMjWCqCmiXa"
      },
      "outputs": [],
      "execution_count": null
    },
    {
      "cell_type": "code",
      "source": [
        "# 50:50\n",
        "dfA = df[:50]\n",
        "dfB = df[50:]\n",
        "dfA.shape, dfB.shape"
      ],
      "metadata": {
        "execution": {
          "iopub.status.busy": "2021-12-01T13:04:40.462571Z",
          "iopub.execute_input": "2021-12-01T13:04:40.462946Z",
          "iopub.status.idle": "2021-12-01T13:04:40.471314Z",
          "shell.execute_reply.started": "2021-12-01T13:04:40.462905Z",
          "shell.execute_reply": "2021-12-01T13:04:40.470432Z"
        },
        "trusted": true,
        "id": "VOKpjwD2miXc"
      },
      "outputs": [],
      "execution_count": null
    },
    {
      "cell_type": "code",
      "source": [
        "# 결측치 채우기\n",
        "dfA.loc[:,'f1'] = dfA['f1'].fillna(dfA['f1'].median())\n",
        "dfB.loc[:,'f1'] = dfB['f1'].fillna(dfB['f1'].max())"
      ],
      "metadata": {
        "execution": {
          "iopub.status.busy": "2021-12-01T13:04:40.472603Z",
          "iopub.execute_input": "2021-12-01T13:04:40.472871Z",
          "iopub.status.idle": "2021-12-01T13:04:40.485322Z",
          "shell.execute_reply.started": "2021-12-01T13:04:40.472841Z",
          "shell.execute_reply": "2021-12-01T13:04:40.484336Z"
        },
        "trusted": true,
        "id": "A_4vCAMTmiXe"
      },
      "outputs": [],
      "execution_count": null
    },
    {
      "cell_type": "code",
      "source": [
        "# 표준편차 확인\n",
        "dfA['f1'].std()"
      ],
      "metadata": {
        "execution": {
          "iopub.status.busy": "2021-12-01T13:04:40.487105Z",
          "iopub.execute_input": "2021-12-01T13:04:40.487644Z",
          "iopub.status.idle": "2021-12-01T13:04:40.499209Z",
          "shell.execute_reply.started": "2021-12-01T13:04:40.487608Z",
          "shell.execute_reply": "2021-12-01T13:04:40.498354Z"
        },
        "trusted": true,
        "id": "GK9Ol74KmiXg"
      },
      "outputs": [],
      "execution_count": null
    },
    {
      "cell_type": "code",
      "source": [
        "# 표준편차 확인\n",
        "dfB['f1'].std()"
      ],
      "metadata": {
        "execution": {
          "iopub.status.busy": "2021-12-01T13:04:40.500527Z",
          "iopub.execute_input": "2021-12-01T13:04:40.50115Z",
          "iopub.status.idle": "2021-12-01T13:04:40.510088Z",
          "shell.execute_reply.started": "2021-12-01T13:04:40.501119Z",
          "shell.execute_reply": "2021-12-01T13:04:40.509427Z"
        },
        "trusted": true,
        "id": "8J-DAG97miXi"
      },
      "outputs": [],
      "execution_count": null
    },
    {
      "cell_type": "code",
      "source": [
        "# 결과 출력\n",
        "print(round(dfA['f1'].std() + dfB['f1'].std(),1))"
      ],
      "metadata": {
        "execution": {
          "iopub.status.busy": "2021-12-01T13:04:40.511416Z",
          "iopub.execute_input": "2021-12-01T13:04:40.511899Z",
          "iopub.status.idle": "2021-12-01T13:04:40.519839Z",
          "shell.execute_reply.started": "2021-12-01T13:04:40.511857Z",
          "shell.execute_reply": "2021-12-01T13:04:40.518998Z"
        },
        "trusted": true,
        "id": "JgW7dGBJmiXk"
      },
      "outputs": [],
      "execution_count": null
    },
    {
      "cell_type": "markdown",
      "source": [
        "## 2. 'f4'컬럼을 기준 내림차순 정렬과 'f5'컬럼기준 오름차순 정렬을 순서대로 다중 조건 정렬하고나서 앞에서부터 10개의 데이터 중 'f5'컬럼의 최소값 찾고, 이 최소값으로 앞에서 부터 10개의 'f5'컬럼 데이터를 변경함. 그리고 'f5'컬럼의 평균값을 계산함\n",
        "### 단 소수점 둘째자리까지 출력(셋째자리에서 반올림)"
      ],
      "metadata": {
        "id": "hGkIGsiEmiXl"
      }
    },
    {
      "cell_type": "code",
      "source": [
        "df = pd.read_csv(\"basic1.csv\")\n",
        "df = df.sort_values(['f4','f5'], ascending=[False, True]).reset_index(drop=True)\n",
        "df"
      ],
      "metadata": {
        "execution": {
          "iopub.status.busy": "2021-12-01T13:04:40.521135Z",
          "iopub.execute_input": "2021-12-01T13:04:40.52143Z",
          "iopub.status.idle": "2021-12-01T13:04:40.549146Z",
          "shell.execute_reply.started": "2021-12-01T13:04:40.521398Z",
          "shell.execute_reply": "2021-12-01T13:04:40.548507Z"
        },
        "trusted": true,
        "id": "1wHwBuXYmiXm"
      },
      "outputs": [],
      "execution_count": null
    },
    {
      "cell_type": "code",
      "source": [
        "df.iloc[:10,7] = df['f5'][:10].min()\n",
        "print(round(df['f5'].mean(),2))"
      ],
      "metadata": {
        "execution": {
          "iopub.status.busy": "2021-12-01T13:04:40.550209Z",
          "iopub.execute_input": "2021-12-01T13:04:40.550459Z",
          "iopub.status.idle": "2021-12-01T13:04:40.556868Z",
          "shell.execute_reply.started": "2021-12-01T13:04:40.550413Z",
          "shell.execute_reply": "2021-12-01T13:04:40.556028Z"
        },
        "trusted": true,
        "id": "4x9tbm7hmiXo"
      },
      "outputs": [],
      "execution_count": null
    },
    {
      "cell_type": "markdown",
      "source": [
        "## 3. 'age' 컬럼의 IQR방식을 이용한 이상치 개수와 표준편차*1.5방식을 이용한 이상치의 개수를 더하시오\n",
        "- IQR방식 : Q1 - 1.5 * IQR, Q3 + 1.5 * IQR에서 벗어나는 영역을 이상치라고 판단함 (Q1은 데이터의 25%, Q3는 데이터의 75% 지점임)\n",
        "- 표준편차*1.5방식: 평균으로부터 '표준편차*1.5'를 벗어나는 영역을 이상치라고 판단함"
      ],
      "metadata": {
        "id": "ggH2BFEEmiXp"
      }
    },
    {
      "cell_type": "code",
      "source": [
        "df = pd.read_csv(\"basic1.csv\")"
      ],
      "metadata": {
        "execution": {
          "iopub.status.busy": "2021-12-01T13:04:40.558168Z",
          "iopub.execute_input": "2021-12-01T13:04:40.559051Z",
          "iopub.status.idle": "2021-12-01T13:04:40.570917Z",
          "shell.execute_reply.started": "2021-12-01T13:04:40.559008Z",
          "shell.execute_reply": "2021-12-01T13:04:40.570131Z"
        },
        "trusted": true,
        "id": "CAZUr8HLmiXq"
      },
      "outputs": [],
      "execution_count": null
    },
    {
      "cell_type": "code",
      "source": [
        "# IQR방식 기준점\n",
        "Q1 = df['age'].quantile(.25)\n",
        "Q3 = df['age'].quantile(.75)\n",
        "IQR = Q3 - Q1\n",
        "min_iqr = Q1-1.5*IQR\n",
        "max_iqr = Q3+1.5*IQR\n",
        "print(min_iqr, max_iqr)"
      ],
      "metadata": {
        "execution": {
          "iopub.status.busy": "2021-12-01T13:04:40.572413Z",
          "iopub.execute_input": "2021-12-01T13:04:40.572949Z",
          "iopub.status.idle": "2021-12-01T13:04:40.583575Z",
          "shell.execute_reply.started": "2021-12-01T13:04:40.572903Z",
          "shell.execute_reply": "2021-12-01T13:04:40.582721Z"
        },
        "trusted": true,
        "id": "oxt56Z1UmiXr"
      },
      "outputs": [],
      "execution_count": null
    },
    {
      "cell_type": "code",
      "source": [
        "# 표준편차*1.5 방식 기준점\n",
        "std = df['age'].std() * 1.5\n",
        "mean = df['age'].mean()\n",
        "min_out = mean - std\n",
        "max_out = mean + std\n",
        "print(min_out, max_out)"
      ],
      "metadata": {
        "execution": {
          "iopub.status.busy": "2021-12-01T13:04:40.584926Z",
          "iopub.execute_input": "2021-12-01T13:04:40.585165Z",
          "iopub.status.idle": "2021-12-01T13:04:40.598196Z",
          "shell.execute_reply.started": "2021-12-01T13:04:40.585137Z",
          "shell.execute_reply": "2021-12-01T13:04:40.597181Z"
        },
        "trusted": true,
        "id": "C0ElCUKAmiXr"
      },
      "outputs": [],
      "execution_count": null
    },
    {
      "cell_type": "code",
      "source": [
        "# 표준편차*1.5 방식 기준\n",
        "out1 = sum((df['age'] < min_out) | (df['age'] > max_out))\n",
        "out1"
      ],
      "metadata": {
        "execution": {
          "iopub.status.busy": "2021-12-01T13:04:40.601724Z",
          "iopub.execute_input": "2021-12-01T13:04:40.602359Z",
          "iopub.status.idle": "2021-12-01T13:04:40.610163Z",
          "shell.execute_reply.started": "2021-12-01T13:04:40.602282Z",
          "shell.execute_reply": "2021-12-01T13:04:40.609243Z"
        },
        "trusted": true,
        "id": "l1OqE-X3miXs"
      },
      "outputs": [],
      "execution_count": null
    },
    {
      "cell_type": "code",
      "source": [
        "# IQR방식 기준\n",
        "out2 = sum((df['age'] < min_iqr) | (df['age'] > max_iqr))\n",
        "out2"
      ],
      "metadata": {
        "execution": {
          "iopub.status.busy": "2021-12-01T13:04:40.611328Z",
          "iopub.execute_input": "2021-12-01T13:04:40.611695Z",
          "iopub.status.idle": "2021-12-01T13:04:40.620741Z",
          "shell.execute_reply.started": "2021-12-01T13:04:40.611661Z",
          "shell.execute_reply": "2021-12-01T13:04:40.619899Z"
        },
        "trusted": true,
        "id": "V98vQpddmiXt"
      },
      "outputs": [],
      "execution_count": null
    },
    {
      "cell_type": "code",
      "source": [
        "print(out1+out2)"
      ],
      "metadata": {
        "execution": {
          "iopub.status.busy": "2021-12-01T13:04:40.621906Z",
          "iopub.execute_input": "2021-12-01T13:04:40.622133Z",
          "iopub.status.idle": "2021-12-01T13:04:40.629426Z",
          "shell.execute_reply.started": "2021-12-01T13:04:40.622106Z",
          "shell.execute_reply": "2021-12-01T13:04:40.628595Z"
        },
        "trusted": true,
        "id": "6Pwlfki2miXt"
      },
      "outputs": [],
      "execution_count": null
    }
  ]
}