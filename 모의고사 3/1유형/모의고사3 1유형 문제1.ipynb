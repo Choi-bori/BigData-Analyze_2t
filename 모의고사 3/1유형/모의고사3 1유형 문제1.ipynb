{
  "metadata": {
    "kernelspec": {
      "language": "python",
      "display_name": "Python 3",
      "name": "python3"
    },
    "language_info": {
      "pygments_lexer": "ipython3",
      "nbconvert_exporter": "python",
      "version": "3.6.4",
      "file_extension": ".py",
      "codemirror_mode": {
        "name": "ipython",
        "version": 3
      },
      "name": "python",
      "mimetype": "text/x-python"
    },
    "colab": {
      "name": "[py] T1-1. 이상치를 찾아라(IQR활용) Expected Questions",
      "provenance": []
    }
  },
  "nbformat_minor": 0,
  "nbformat": 4,
  "cells": [
    {
      "cell_type": "markdown",
      "source": [
        "## 이상치를 찾아라\n",
        "### 데이터에서 IQR을 활용해 Fare컬럼의 이상치를 찾고, 이상치 데이터의 여성 수를 구하시오\n",
        "- 데이터셋 : titanic"
      ],
      "metadata": {
        "id": "TOv6EGg8sy7h"
      }
    },
    {
      "cell_type": "code",
      "source": [
        "# 라이브러리 및 데이터 불러오기\n",
        "\n",
        "\n"
      ],
      "metadata": {
        "execution": {
          "iopub.status.busy": "2021-12-03T07:21:17.927098Z",
          "iopub.execute_input": "2021-12-03T07:21:17.927771Z",
          "iopub.status.idle": "2021-12-03T07:21:17.931037Z",
          "shell.execute_reply.started": "2021-12-03T07:21:17.927725Z",
          "shell.execute_reply": "2021-12-03T07:21:17.930431Z"
        },
        "trusted": true,
        "id": "kUKwGGsMsy7k"
      },
      "execution_count": null,
      "outputs": []
    },
    {
      "cell_type": "markdown",
      "source": [
        "## Hint"
      ],
      "metadata": {
        "id": "PGnrNsMtsy7m"
      }
    },
    {
      "cell_type": "code",
      "source": [
        "# IQR 구하기\n",
        "# pandas 활용\n",
        "# Q1 = df[col].quantile(.25)\n",
        "# Q3 = df[col].quantile(.75)\n",
        "\n",
        "# numpy 활용\n",
        "# Q1 = np.percentile(df[col], 25)\n",
        "# Q3 = np.percentile(df[col], 75)\n",
        "\n",
        "# IQR = Q3 - Q1\n",
        "# Q1 - 1.5 * IQR, Q3 + 1.5 * IQR"
      ],
      "metadata": {
        "execution": {
          "iopub.status.busy": "2021-12-03T07:21:17.981857Z",
          "iopub.execute_input": "2021-12-03T07:21:17.982478Z",
          "iopub.status.idle": "2021-12-03T07:21:17.992515Z",
          "shell.execute_reply.started": "2021-12-03T07:21:17.982445Z",
          "shell.execute_reply": "2021-12-03T07:21:17.991506Z"
        },
        "trusted": true,
        "id": "z8W62G1qsy7n"
      },
      "execution_count": null,
      "outputs": []
    },
    {
      "cell_type": "markdown",
      "source": [
        "## 해답"
      ],
      "metadata": {
        "id": "uqh8T2AYsy7n"
      }
    },
    {
      "cell_type": "code",
      "source": [
        "# 라이브러리 및 데이터 불러오기\n",
        "import pandas as pd\n",
        "import numpy as np\n",
        "df = pd.read_csv('train.csv')"
      ],
      "metadata": {
        "execution": {
          "iopub.status.busy": "2021-12-03T07:21:17.993676Z",
          "iopub.execute_input": "2021-12-03T07:21:17.994286Z",
          "iopub.status.idle": "2021-12-03T07:21:18.014178Z",
          "shell.execute_reply.started": "2021-12-03T07:21:17.994248Z",
          "shell.execute_reply": "2021-12-03T07:21:18.013198Z"
        },
        "trusted": true,
        "id": "PE0M6vR1sy7n"
      },
      "execution_count": null,
      "outputs": []
    },
    {
      "cell_type": "code",
      "source": [
        "# 간단한 탐색적 데이터 분석 (EDA)\n",
        "print(df.shape)\n",
        "print(df.isnull().sum())\n",
        "df.head()"
      ],
      "metadata": {
        "execution": {
          "iopub.status.busy": "2021-12-03T07:21:18.015102Z",
          "iopub.execute_input": "2021-12-03T07:21:18.015676Z",
          "iopub.status.idle": "2021-12-03T07:21:18.03479Z",
          "shell.execute_reply.started": "2021-12-03T07:21:18.015643Z",
          "shell.execute_reply": "2021-12-03T07:21:18.034209Z"
        },
        "trusted": true,
        "id": "_DOCbu7fsy7n"
      },
      "execution_count": null,
      "outputs": []
    },
    {
      "cell_type": "code",
      "source": [
        "# IQR 구하기\n",
        "Q1 = df['Fare'].quantile(.25)\n",
        "Q3 = df['Fare'].quantile(.75)\n",
        "\n",
        "# numpy 활용시\n",
        "# Q1 = np.percentile(df['Fare'], 25)\n",
        "# Q3 = np.percentile(df['Fare'], 75)\n",
        "\n",
        "IQR = Q3 - Q1\n",
        "Q1 - 1.5 * IQR, Q3 + 1.5 * IQR"
      ],
      "metadata": {
        "execution": {
          "iopub.status.busy": "2021-12-03T07:21:18.035799Z",
          "iopub.execute_input": "2021-12-03T07:21:18.036133Z",
          "iopub.status.idle": "2021-12-03T07:21:18.045468Z",
          "shell.execute_reply.started": "2021-12-03T07:21:18.036106Z",
          "shell.execute_reply": "2021-12-03T07:21:18.044806Z"
        },
        "trusted": true,
        "id": "hm599GSIsy7o"
      },
      "execution_count": null,
      "outputs": []
    },
    {
      "cell_type": "code",
      "source": [
        "# 이상치 데이터 구하기\n",
        "outdata1 = df[df['Fare']<(Q1 - 1.5 * IQR)]\n",
        "outdata2 = df[df['Fare']>(Q3 + 1.5 * IQR)]\n",
        "len(outdata1), len(outdata2)"
      ],
      "metadata": {
        "execution": {
          "iopub.status.busy": "2021-12-03T07:21:18.046587Z",
          "iopub.execute_input": "2021-12-03T07:21:18.047328Z",
          "iopub.status.idle": "2021-12-03T07:21:18.057599Z",
          "shell.execute_reply.started": "2021-12-03T07:21:18.047296Z",
          "shell.execute_reply": "2021-12-03T07:21:18.056913Z"
        },
        "trusted": true,
        "id": "OvDJk6A_sy7o"
      },
      "execution_count": null,
      "outputs": []
    },
    {
      "cell_type": "code",
      "source": [
        "# 이상치 데이터에서 여성 수 구하기, 출력하기 print()\n",
        "print(sum(outdata2['Sex'] == 'female'))"
      ],
      "metadata": {
        "execution": {
          "iopub.status.busy": "2021-12-03T07:21:18.178721Z",
          "iopub.execute_input": "2021-12-03T07:21:18.179408Z",
          "iopub.status.idle": "2021-12-03T07:21:18.185081Z",
          "shell.execute_reply.started": "2021-12-03T07:21:18.179375Z",
          "shell.execute_reply": "2021-12-03T07:21:18.184025Z"
        },
        "trusted": true,
        "id": "05anzcsgsy7o"
      },
      "execution_count": null,
      "outputs": []
    }
  ]
}