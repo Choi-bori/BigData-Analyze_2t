{
  "metadata": {
    "kernelspec": {
      "language": "python",
      "display_name": "Python 3",
      "name": "python3"
    },
    "language_info": {
      "pygments_lexer": "ipython3",
      "nbconvert_exporter": "python",
      "version": "3.6.4",
      "file_extension": ".py",
      "codemirror_mode": {
        "name": "ipython",
        "version": 3
      },
      "name": "python",
      "mimetype": "text/x-python"
    },
    "colab": {
      "name": "[py] T1-3. 결측치 처리(map 활용) Expected Questions",
      "provenance": []
    }
  },
  "nbformat_minor": 0,
  "nbformat": 4,
  "cells": [
    {
      "cell_type": "markdown",
      "source": [
        "## 결측치 처리\n",
        "-  주어진 데이터에서 결측치가 80%이상 되는 컬럼은(변수는) 삭제하고, 80% 미만인 결측치가 있는 컬럼은 'city'별 중앙값으로 값을 대체하고 'f1'컬럼의 평균값을 출력하세요!"
      ],
      "metadata": {
        "id": "cyzd_NBwufkw"
      }
    },
    {
      "cell_type": "code",
      "source": [],
      "metadata": {
        "id": "EXnkHTB5umXy"
      },
      "execution_count": null,
      "outputs": []
    },
    {
      "cell_type": "code",
      "source": [],
      "metadata": {
        "id": "7k3KfPocumUz"
      },
      "execution_count": null,
      "outputs": []
    },
    {
      "cell_type": "code",
      "source": [],
      "metadata": {
        "id": "6CYBPD4_umSQ"
      },
      "execution_count": null,
      "outputs": []
    },
    {
      "cell_type": "code",
      "source": [],
      "metadata": {
        "id": "sxhCiw0XumPE"
      },
      "execution_count": null,
      "outputs": []
    },
    {
      "cell_type": "markdown",
      "source": [
        "## Hint\n",
        "- city별 중앙값으로 대체에서는 map함수 활용"
      ],
      "metadata": {
        "id": "-ycXj5R0ufk0"
      }
    },
    {
      "cell_type": "markdown",
      "source": [
        "## 풀이"
      ],
      "metadata": {
        "id": "UxdZ9JTkufk1"
      }
    },
    {
      "cell_type": "code",
      "source": [
        "# 라이브러리 및 데이터 불러오기\n",
        "import pandas as pd\n",
        "import numpy as np\n",
        "\n",
        "df = pd.read_csv('../input/bigdatacertificationkr/basic1.csv')\n",
        "df.head()"
      ],
      "metadata": {
        "execution": {
          "iopub.status.busy": "2021-11-16T13:12:20.604102Z",
          "iopub.execute_input": "2021-11-16T13:12:20.604596Z",
          "iopub.status.idle": "2021-11-16T13:12:20.644005Z",
          "shell.execute_reply.started": "2021-11-16T13:12:20.604562Z",
          "shell.execute_reply": "2021-11-16T13:12:20.643101Z"
        },
        "trusted": true,
        "id": "7sUTHFeLufk1"
      },
      "execution_count": null,
      "outputs": []
    },
    {
      "cell_type": "code",
      "source": [
        "# EDA - 결측값 확인\n",
        "df.isnull().sum()"
      ],
      "metadata": {
        "_uuid": "8f2839f25d086af736a60e9eeb907d3b93b6e0e5",
        "_cell_guid": "b1076dfc-b9ad-4769-8c92-a6c4dae69d19",
        "execution": {
          "iopub.status.busy": "2021-11-16T13:12:20.646589Z",
          "iopub.execute_input": "2021-11-16T13:12:20.646916Z",
          "iopub.status.idle": "2021-11-16T13:12:20.656988Z",
          "shell.execute_reply.started": "2021-11-16T13:12:20.646885Z",
          "shell.execute_reply": "2021-11-16T13:12:20.656119Z"
        },
        "trusted": true,
        "id": "Qzrtfl2iufk2"
      },
      "execution_count": null,
      "outputs": []
    },
    {
      "cell_type": "code",
      "source": [
        "# 데이터 shape\n",
        "df.shape"
      ],
      "metadata": {
        "execution": {
          "iopub.status.busy": "2021-11-16T13:12:20.658417Z",
          "iopub.execute_input": "2021-11-16T13:12:20.658749Z",
          "iopub.status.idle": "2021-11-16T13:12:20.665172Z",
          "shell.execute_reply.started": "2021-11-16T13:12:20.658708Z",
          "shell.execute_reply": "2021-11-16T13:12:20.664578Z"
        },
        "trusted": true,
        "id": "WhS67Fw9ufk2"
      },
      "execution_count": null,
      "outputs": []
    },
    {
      "cell_type": "code",
      "source": [
        "# EDA - 결측비율 확인\n",
        "df.isnull().sum()/df.shape[0]"
      ],
      "metadata": {
        "execution": {
          "iopub.status.busy": "2021-11-16T13:12:20.66609Z",
          "iopub.execute_input": "2021-11-16T13:12:20.666593Z",
          "iopub.status.idle": "2021-11-16T13:12:20.6808Z",
          "shell.execute_reply.started": "2021-11-16T13:12:20.666565Z",
          "shell.execute_reply": "2021-11-16T13:12:20.679986Z"
        },
        "trusted": true,
        "id": "UgyO_1Mwufk2"
      },
      "execution_count": null,
      "outputs": []
    },
    {
      "cell_type": "code",
      "source": [
        "# f3 컬럼 삭제\n",
        "print(\"삭제 전:\", df.shape)\n",
        "df = df.drop(['f3'], axis=1)\n",
        "print(\"삭제 후:\", df.shape)\n",
        "\n",
        "# 결측치가 있는 컬럼을 제거하는 2가지 방법\n",
        "# df.drop(['B', 'C'], axis=1)\n",
        "# df.drop(columns=['B', 'C'])"
      ],
      "metadata": {
        "execution": {
          "iopub.status.busy": "2021-11-16T13:12:20.684244Z",
          "iopub.execute_input": "2021-11-16T13:12:20.684689Z",
          "iopub.status.idle": "2021-11-16T13:12:20.696575Z",
          "shell.execute_reply.started": "2021-11-16T13:12:20.684652Z",
          "shell.execute_reply": "2021-11-16T13:12:20.695948Z"
        },
        "trusted": true,
        "id": "f8iXiKBJufk3"
      },
      "execution_count": null,
      "outputs": []
    },
    {
      "cell_type": "code",
      "source": [
        "# 도시 확인\n",
        "df['city'].unique()"
      ],
      "metadata": {
        "execution": {
          "iopub.status.busy": "2021-11-16T13:12:46.466022Z",
          "iopub.execute_input": "2021-11-16T13:12:46.466502Z",
          "iopub.status.idle": "2021-11-16T13:12:46.472028Z",
          "shell.execute_reply.started": "2021-11-16T13:12:46.466467Z",
          "shell.execute_reply": "2021-11-16T13:12:46.471229Z"
        },
        "trusted": true,
        "id": "QsNmcmUxufk3"
      },
      "execution_count": null,
      "outputs": []
    },
    {
      "cell_type": "code",
      "source": [
        "# 도시별 중앙값 계산\n",
        "s=df[df['city']=='서울']['f1'].median()\n",
        "k=df[df['city']=='경기']['f1'].median()\n",
        "b=df[df['city']=='부산']['f1'].median()\n",
        "d=df[df['city']=='대구']['f1'].median()\n",
        "s, k, b, d\n",
        "\n",
        "#방법2\n",
        "# k, d, b, s = df.groupby('city')['f1'].median()"
      ],
      "metadata": {
        "execution": {
          "iopub.status.busy": "2021-11-16T13:12:20.71491Z",
          "iopub.execute_input": "2021-11-16T13:12:20.715416Z",
          "iopub.status.idle": "2021-11-16T13:12:20.729926Z",
          "shell.execute_reply.started": "2021-11-16T13:12:20.715384Z",
          "shell.execute_reply": "2021-11-16T13:12:20.729081Z"
        },
        "trusted": true,
        "id": "a0uNXG3pufk3"
      },
      "execution_count": null,
      "outputs": []
    },
    {
      "cell_type": "code",
      "source": [
        "# 대체 전 데이터 샘플 출력\n",
        "df[18:21]"
      ],
      "metadata": {
        "execution": {
          "iopub.status.busy": "2021-11-16T13:12:20.731308Z",
          "iopub.execute_input": "2021-11-16T13:12:20.731799Z",
          "iopub.status.idle": "2021-11-16T13:12:20.750296Z",
          "shell.execute_reply.started": "2021-11-16T13:12:20.731771Z",
          "shell.execute_reply": "2021-11-16T13:12:20.749427Z"
        },
        "trusted": true,
        "id": "micDaTNGufk4"
      },
      "execution_count": null,
      "outputs": []
    },
    {
      "cell_type": "code",
      "source": [
        "# f1결측치 city별 중앙값으로 대체\n",
        "df['f1'] = df['f1'].fillna(df['city'].map({'서울':s,'경기':k,'부산':b,'대구':d}))\n",
        "\n",
        "# 만약 그냥 f1 중앙값으로 대체 한다면\n",
        "# df['f1'] = df['f1'].fillna(df['f1'].median())"
      ],
      "metadata": {
        "execution": {
          "iopub.status.busy": "2021-11-16T13:12:20.751241Z",
          "iopub.execute_input": "2021-11-16T13:12:20.751823Z",
          "iopub.status.idle": "2021-11-16T13:12:20.76246Z",
          "shell.execute_reply.started": "2021-11-16T13:12:20.751783Z",
          "shell.execute_reply": "2021-11-16T13:12:20.761675Z"
        },
        "trusted": true,
        "id": "g8Pf7axiufk4"
      },
      "execution_count": null,
      "outputs": []
    },
    {
      "cell_type": "code",
      "source": [
        "# 대체 후 데이터 샘플 출력\n",
        "df[18:21]"
      ],
      "metadata": {
        "execution": {
          "iopub.status.busy": "2021-11-16T13:12:20.764077Z",
          "iopub.execute_input": "2021-11-16T13:12:20.764425Z",
          "iopub.status.idle": "2021-11-16T13:12:20.777527Z",
          "shell.execute_reply.started": "2021-11-16T13:12:20.764397Z",
          "shell.execute_reply": "2021-11-16T13:12:20.776922Z"
        },
        "trusted": true,
        "id": "7wL0u1bqufk4"
      },
      "execution_count": null,
      "outputs": []
    },
    {
      "cell_type": "code",
      "source": [
        "#결과 출력\n",
        "print(df['f1'].mean())"
      ],
      "metadata": {
        "execution": {
          "iopub.status.busy": "2021-11-16T13:12:20.778647Z",
          "iopub.execute_input": "2021-11-16T13:12:20.779029Z",
          "iopub.status.idle": "2021-11-16T13:12:20.784182Z",
          "shell.execute_reply.started": "2021-11-16T13:12:20.778996Z",
          "shell.execute_reply": "2021-11-16T13:12:20.783079Z"
        },
        "trusted": true,
        "id": "ayLLopgLufk4"
      },
      "execution_count": null,
      "outputs": []
    }
  ]
}