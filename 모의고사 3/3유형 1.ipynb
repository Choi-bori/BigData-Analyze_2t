{
  "metadata": {
    "kernelspec": {
      "language": "python",
      "display_name": "Python 3",
      "name": "python3"
    },
    "language_info": {
      "pygments_lexer": "ipython3",
      "nbconvert_exporter": "python",
      "version": "3.6.4",
      "file_extension": ".py",
      "codemirror_mode": {
        "name": "ipython",
        "version": 3
      },
      "name": "python",
      "mimetype": "text/x-python"
    },
    "colab": {
      "name": "T3-Shapiro-Wilk",
      "provenance": []
    }
  },
  "nbformat_minor": 0,
  "nbformat": 4,
  "cells": [
    {
      "cell_type": "markdown",
      "source": [
        "## 12명의 수험생이 빅데이터 분석기사 시험에서 받은 점수이다. Shapiro-Wilk 검정을 사용하여 데이터가 정규 분포를 따르는지 검증하시오\n",
        "\n",
        "- 귀무 가설(H0): 데이터는 정규 분포를 따른다.\n",
        "- 대립 가설(H1): 데이터는 정규 분포를 따르지 않는다.\n",
        "\n",
        "**Shapiro-Wilk 검정 통계량, p-value, 검증결과를 출력하시오**"
      ],
      "metadata": {
        "id": "rlY_Wn-TvzdO"
      }
    },
    {
      "cell_type": "code",
      "source": [],
      "metadata": {
        "id": "XfK4RvR5v1KS"
      },
      "execution_count": null,
      "outputs": []
    },
    {
      "cell_type": "code",
      "source": [],
      "metadata": {
        "id": "9RyD_o7wv1Hu"
      },
      "execution_count": null,
      "outputs": []
    },
    {
      "cell_type": "code",
      "source": [],
      "metadata": {
        "id": "S7uRuYq8v1Fd"
      },
      "execution_count": null,
      "outputs": []
    },
    {
      "cell_type": "code",
      "source": [],
      "metadata": {
        "id": "7PL7MvYLv1EM"
      },
      "execution_count": null,
      "outputs": []
    },
    {
      "cell_type": "code",
      "source": [],
      "metadata": {
        "id": "0BgtzCskv1A6"
      },
      "execution_count": null,
      "outputs": []
    },
    {
      "cell_type": "code",
      "source": [],
      "metadata": {
        "id": "ia20xbl7v09k"
      },
      "execution_count": null,
      "outputs": []
    },
    {
      "cell_type": "markdown",
      "source": [
        "풀이\n"
      ],
      "metadata": {
        "id": "5wdFvRe_v1se"
      }
    },
    {
      "cell_type": "code",
      "source": [
        "from scipy import stats\n",
        "\n",
        "data = [75, 83, 81, 92, 68, 77, 78, 80, 85, 95, 79, 89]\n",
        "\n",
        "# Shapiro-Wilk 검정 수행\n",
        "statistic, p_value = stats.shapiro(data)\n",
        "\n",
        "# 결과 출력\n",
        "print(\"Shapiro-Wilk 검정 통계량:\", statistic)\n",
        "print(\"p-value:\", p_value)\n",
        "\n",
        "# 유의 수준 0.05에서의 검정 결과 확인\n",
        "alpha = 0.05\n",
        "if p_value > alpha:\n",
        "    print(\"귀무 가설을 기각할 수 없다. 데이터는 정규 분포를 따름\")\n",
        "else:\n",
        "    print(\"귀무 가설을 기각한다. 데이터는 정규 분포를 따르지 않음\")"
      ],
      "metadata": {
        "execution": {
          "iopub.status.busy": "2023-05-17T17:49:45.470385Z",
          "iopub.execute_input": "2023-05-17T17:49:45.470797Z",
          "iopub.status.idle": "2023-05-17T17:49:45.479078Z",
          "shell.execute_reply.started": "2023-05-17T17:49:45.470763Z",
          "shell.execute_reply": "2023-05-17T17:49:45.477909Z"
        },
        "trusted": true,
        "id": "z5323ZqRvzdS"
      },
      "execution_count": null,
      "outputs": []
    },
    {
      "cell_type": "code",
      "source": [],
      "metadata": {
        "id": "rVUvO2kKvzdU"
      },
      "execution_count": null,
      "outputs": []
    }
  ]
}