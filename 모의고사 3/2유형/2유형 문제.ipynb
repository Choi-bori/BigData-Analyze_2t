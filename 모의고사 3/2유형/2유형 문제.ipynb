{
  "metadata": {
    "kernelspec": {
      "language": "python",
      "display_name": "Python 3",
      "name": "python3"
    },
    "language_info": {
      "pygments_lexer": "ipython3",
      "nbconvert_exporter": "python",
      "version": "3.6.4",
      "file_extension": ".py",
      "codemirror_mode": {
        "name": "ipython",
        "version": 3
      },
      "name": "python",
      "mimetype": "text/x-python"
    },
    "colab": {
      "name": "T2-6. Bike-Regressor",
      "provenance": []
    }
  },
  "nbformat_minor": 0,
  "nbformat": 4,
  "cells": [
    {
      "cell_type": "markdown",
      "source": [
        "## Baseline code\n",
        "- 자전거 수요 예측\n",
        "- target: count컬럼\n",
        "\n",
        "- 제출 파일 : datetime, count"
      ],
      "metadata": {
        "id": "5qsNcfV6sHAM"
      }
    },
    {
      "cell_type": "code",
      "source": [
        "import pandas as pd"
      ],
      "metadata": {
        "_uuid": "051d70d956493feee0c6d64651c6a088724dca2a",
        "_execution_state": "idle",
        "execution": {
          "iopub.status.busy": "2022-11-29T09:41:10.842952Z",
          "iopub.execute_input": "2022-11-29T09:41:10.843397Z",
          "iopub.status.idle": "2022-11-29T09:41:10.848229Z",
          "shell.execute_reply.started": "2022-11-29T09:41:10.843358Z",
          "shell.execute_reply": "2022-11-29T09:41:10.846942Z"
        },
        "trusted": true,
        "id": "MacuETcHsHAO"
      },
      "execution_count": null,
      "outputs": []
    },
    {
      "cell_type": "code",
      "source": [
        "train = pd.read_csv(\"/kaggle/input/bike-sharing-demand/train.csv\")\n",
        "test = pd.read_csv(\"/kaggle/input/bike-sharing-demand/test.csv\")"
      ],
      "metadata": {
        "execution": {
          "iopub.status.busy": "2022-11-29T09:41:10.849756Z",
          "iopub.execute_input": "2022-11-29T09:41:10.851076Z",
          "iopub.status.idle": "2022-11-29T09:41:10.899353Z",
          "shell.execute_reply.started": "2022-11-29T09:41:10.851027Z",
          "shell.execute_reply": "2022-11-29T09:41:10.898336Z"
        },
        "trusted": true,
        "id": "UgvVido1sHAO"
      },
      "execution_count": null,
      "outputs": []
    }
  ]
}