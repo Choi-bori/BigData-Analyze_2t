{
  "metadata": {
    "kernelspec": {
      "language": "python",
      "display_name": "Python 3",
      "name": "python3"
    },
    "language_info": {
      "pygments_lexer": "ipython3",
      "nbconvert_exporter": "python",
      "version": "3.6.4",
      "file_extension": ".py",
      "codemirror_mode": {
        "name": "ipython",
        "version": 3
      },
      "name": "python",
      "mimetype": "text/x-python"
    },
    "colab": {
      "name": "T2-6. Bike-Regressor",
      "provenance": []
    }
  },
  "nbformat_minor": 0,
  "nbformat": 4,
  "cells": [
    {
      "cell_type": "markdown",
      "source": [
        "## Baseline code\n",
        "- 자전거 수요 예측\n",
        "- target: count컬럼\n",
        "\n",
        "- 제출 파일 : datetime, count"
      ],
      "metadata": {
        "id": "5qsNcfV6sHAM"
      }
    },
    {
      "cell_type": "code",
      "source": [
        "import pandas as pd"
      ],
      "metadata": {
        "_uuid": "051d70d956493feee0c6d64651c6a088724dca2a",
        "_execution_state": "idle",
        "execution": {
          "iopub.status.busy": "2022-11-29T09:41:10.842952Z",
          "iopub.execute_input": "2022-11-29T09:41:10.843397Z",
          "iopub.status.idle": "2022-11-29T09:41:10.848229Z",
          "shell.execute_reply.started": "2022-11-29T09:41:10.843358Z",
          "shell.execute_reply": "2022-11-29T09:41:10.846942Z"
        },
        "trusted": true,
        "id": "MacuETcHsHAO"
      },
      "execution_count": null,
      "outputs": []
    },
    {
      "cell_type": "code",
      "source": [
        "train = pd.read_csv(\"/kaggle/input/bike-sharing-demand/train.csv\")\n",
        "test = pd.read_csv(\"/kaggle/input/bike-sharing-demand/test.csv\")"
      ],
      "metadata": {
        "execution": {
          "iopub.status.busy": "2022-11-29T09:41:10.849756Z",
          "iopub.execute_input": "2022-11-29T09:41:10.851076Z",
          "iopub.status.idle": "2022-11-29T09:41:10.899353Z",
          "shell.execute_reply.started": "2022-11-29T09:41:10.851027Z",
          "shell.execute_reply": "2022-11-29T09:41:10.898336Z"
        },
        "trusted": true,
        "id": "UgvVido1sHAO"
      },
      "execution_count": null,
      "outputs": []
    },
    {
      "cell_type": "markdown",
      "source": [
        "## EDA"
      ],
      "metadata": {
        "id": "YOm6EXyEsHAP"
      }
    },
    {
      "cell_type": "code",
      "source": [
        "# 데이터 크기\n",
        "train.shape, test.shape"
      ],
      "metadata": {
        "execution": {
          "iopub.status.busy": "2022-11-29T09:41:10.9009Z",
          "iopub.execute_input": "2022-11-29T09:41:10.901709Z",
          "iopub.status.idle": "2022-11-29T09:41:10.908051Z",
          "shell.execute_reply.started": "2022-11-29T09:41:10.901672Z",
          "shell.execute_reply": "2022-11-29T09:41:10.907233Z"
        },
        "trusted": true,
        "id": "cAuYqNbFsHAQ"
      },
      "execution_count": null,
      "outputs": []
    },
    {
      "cell_type": "code",
      "source": [
        "# 데이터 샘플\n",
        "train.head(2)"
      ],
      "metadata": {
        "execution": {
          "iopub.status.busy": "2022-11-29T09:41:10.909406Z",
          "iopub.execute_input": "2022-11-29T09:41:10.909737Z",
          "iopub.status.idle": "2022-11-29T09:41:10.93582Z",
          "shell.execute_reply.started": "2022-11-29T09:41:10.909704Z",
          "shell.execute_reply": "2022-11-29T09:41:10.933706Z"
        },
        "trusted": true,
        "id": "uZfQIv5YsHAR"
      },
      "execution_count": null,
      "outputs": []
    },
    {
      "cell_type": "code",
      "source": [
        "# 데이터 샘플\n",
        "test.head(2)"
      ],
      "metadata": {
        "execution": {
          "iopub.status.busy": "2022-11-29T09:41:10.938765Z",
          "iopub.execute_input": "2022-11-29T09:41:10.939127Z",
          "iopub.status.idle": "2022-11-29T09:41:10.95199Z",
          "shell.execute_reply.started": "2022-11-29T09:41:10.939095Z",
          "shell.execute_reply": "2022-11-29T09:41:10.951085Z"
        },
        "trusted": true,
        "id": "QDnq5aNEsHAS"
      },
      "execution_count": null,
      "outputs": []
    },
    {
      "cell_type": "markdown",
      "source": [
        "- casual, registered의 합이 count인 것을 확인할 수 있음 (test에는 없으므로 제거)"
      ],
      "metadata": {
        "id": "W-MeIyyJsHAT"
      }
    },
    {
      "cell_type": "code",
      "source": [
        "# 결측값 확인\n",
        "train.isnull().sum()"
      ],
      "metadata": {
        "execution": {
          "iopub.status.busy": "2022-11-29T09:41:10.953448Z",
          "iopub.execute_input": "2022-11-29T09:41:10.954008Z",
          "iopub.status.idle": "2022-11-29T09:41:10.971507Z",
          "shell.execute_reply.started": "2022-11-29T09:41:10.953972Z",
          "shell.execute_reply": "2022-11-29T09:41:10.970379Z"
        },
        "trusted": true,
        "id": "z4upolMasHAU"
      },
      "execution_count": null,
      "outputs": []
    },
    {
      "cell_type": "code",
      "source": [
        "# 결측값 확인\n",
        "test.isnull().sum()"
      ],
      "metadata": {
        "execution": {
          "iopub.status.busy": "2022-11-29T09:41:10.973091Z",
          "iopub.execute_input": "2022-11-29T09:41:10.973533Z",
          "iopub.status.idle": "2022-11-29T09:41:10.984709Z",
          "shell.execute_reply.started": "2022-11-29T09:41:10.97349Z",
          "shell.execute_reply": "2022-11-29T09:41:10.983412Z"
        },
        "trusted": true,
        "id": "HFFzMDyasHAU"
      },
      "execution_count": null,
      "outputs": []
    },
    {
      "cell_type": "code",
      "source": [
        "train['count'].hist()"
      ],
      "metadata": {
        "execution": {
          "iopub.status.busy": "2022-11-29T09:41:10.987896Z",
          "iopub.execute_input": "2022-11-29T09:41:10.988329Z",
          "iopub.status.idle": "2022-11-29T09:41:11.23637Z",
          "shell.execute_reply.started": "2022-11-29T09:41:10.988294Z",
          "shell.execute_reply": "2022-11-29T09:41:11.235103Z"
        },
        "trusted": true,
        "id": "QQT_1KeGsHAV"
      },
      "execution_count": null,
      "outputs": []
    },
    {
      "cell_type": "markdown",
      "source": [
        "## 전처리"
      ],
      "metadata": {
        "id": "m7TA8NKUsHAW"
      }
    },
    {
      "cell_type": "code",
      "source": [
        "# datetime\n",
        "\n",
        "train['datetime'] = pd.to_datetime(train['datetime'])\n",
        "test['datetime'] = pd.to_datetime(test['datetime'])\n",
        "\n",
        "train['year'] = train['datetime'].dt.year\n",
        "train['month'] = train['datetime'].dt.month\n",
        "train['day'] = train['datetime'].dt.day\n",
        "\n",
        "test['year'] = test['datetime'].dt.year\n",
        "test['month'] = test['datetime'].dt.month\n",
        "test['day'] = test['datetime'].dt.day\n",
        "\n",
        "train = train.drop('datetime', axis=1)\n",
        "test = test.drop('datetime', axis=1)"
      ],
      "metadata": {
        "execution": {
          "iopub.status.busy": "2022-11-29T09:41:11.237768Z",
          "iopub.execute_input": "2022-11-29T09:41:11.238138Z",
          "iopub.status.idle": "2022-11-29T09:41:11.267845Z",
          "shell.execute_reply.started": "2022-11-29T09:41:11.238106Z",
          "shell.execute_reply": "2022-11-29T09:41:11.266766Z"
        },
        "trusted": true,
        "id": "lHMDevOBsHAW"
      },
      "execution_count": null,
      "outputs": []
    },
    {
      "cell_type": "code",
      "source": [
        "# test에는 없는 컬럼 삭제\n",
        "train = train.drop(['casual', 'registered'], axis=1)\n",
        "train.head(1)"
      ],
      "metadata": {
        "execution": {
          "iopub.status.busy": "2022-11-29T09:41:11.26918Z",
          "iopub.execute_input": "2022-11-29T09:41:11.270168Z",
          "iopub.status.idle": "2022-11-29T09:41:11.288326Z",
          "shell.execute_reply.started": "2022-11-29T09:41:11.270132Z",
          "shell.execute_reply": "2022-11-29T09:41:11.287159Z"
        },
        "trusted": true,
        "id": "8XT5focmsHAX"
      },
      "execution_count": null,
      "outputs": []
    },
    {
      "cell_type": "code",
      "source": [
        "# target 별도 저장\n",
        "target = train.pop('count')\n",
        "target"
      ],
      "metadata": {
        "execution": {
          "iopub.status.busy": "2022-11-29T09:41:11.292607Z",
          "iopub.execute_input": "2022-11-29T09:41:11.293081Z",
          "iopub.status.idle": "2022-11-29T09:41:11.303438Z",
          "shell.execute_reply.started": "2022-11-29T09:41:11.293038Z",
          "shell.execute_reply": "2022-11-29T09:41:11.302087Z"
        },
        "trusted": true,
        "id": "a8szi8_FsHAY"
      },
      "execution_count": null,
      "outputs": []
    },
    {
      "cell_type": "code",
      "source": [
        "from sklearn.model_selection import train_test_split\n",
        "\n",
        "X_train, X_val, y_train, y_val = train_test_split(train, target, test_size=0.2, random_state=2023)\n",
        "X_train.shape, X_val.shape, y_train.shape, y_val.shape"
      ],
      "metadata": {
        "execution": {
          "iopub.status.busy": "2022-11-29T09:41:11.304932Z",
          "iopub.execute_input": "2022-11-29T09:41:11.305356Z",
          "iopub.status.idle": "2022-11-29T09:41:11.322004Z",
          "shell.execute_reply.started": "2022-11-29T09:41:11.305322Z",
          "shell.execute_reply": "2022-11-29T09:41:11.32031Z"
        },
        "trusted": true,
        "id": "E6oiNhd6sHAY"
      },
      "execution_count": null,
      "outputs": []
    },
    {
      "cell_type": "markdown",
      "source": [
        "## 선형회귀 모델"
      ],
      "metadata": {
        "id": "BXToCp7XsHAY"
      }
    },
    {
      "cell_type": "code",
      "source": [
        "# 평가\n",
        "from sklearn.metrics import r2_score"
      ],
      "metadata": {
        "execution": {
          "iopub.status.busy": "2022-11-29T09:45:46.167488Z",
          "iopub.execute_input": "2022-11-29T09:45:46.167935Z",
          "iopub.status.idle": "2022-11-29T09:45:46.17545Z",
          "shell.execute_reply.started": "2022-11-29T09:45:46.167902Z",
          "shell.execute_reply": "2022-11-29T09:45:46.173617Z"
        },
        "trusted": true,
        "id": "yYFGqTXlsHAY"
      },
      "execution_count": null,
      "outputs": []
    },
    {
      "cell_type": "code",
      "source": [
        "from sklearn.linear_model import LinearRegression\n",
        "lr = LinearRegression()\n",
        "lr.fit(X_train, y_train)\n",
        "pred = lr.predict(X_val)\n",
        "r2_score(y_val, pred)"
      ],
      "metadata": {
        "execution": {
          "iopub.status.busy": "2022-11-29T09:45:52.049583Z",
          "iopub.execute_input": "2022-11-29T09:45:52.050101Z",
          "iopub.status.idle": "2022-11-29T09:45:52.076524Z",
          "shell.execute_reply.started": "2022-11-29T09:45:52.050065Z",
          "shell.execute_reply": "2022-11-29T09:45:52.073785Z"
        },
        "trusted": true,
        "id": "czMf0RBksHAZ"
      },
      "execution_count": null,
      "outputs": []
    },
    {
      "cell_type": "markdown",
      "source": [
        "## 랜덤포레스트"
      ],
      "metadata": {
        "id": "YvXK1g01sHAZ"
      }
    },
    {
      "cell_type": "code",
      "source": [
        "from sklearn.ensemble import RandomForestRegressor\n",
        "rf = RandomForestRegressor()\n",
        "rf.fit(X_train, y_train)\n",
        "pred = rf.predict(X_val)\n",
        "r2_score(y_val, pred)"
      ],
      "metadata": {
        "execution": {
          "iopub.status.busy": "2022-11-29T09:47:11.526912Z",
          "iopub.execute_input": "2022-11-29T09:47:11.527334Z",
          "iopub.status.idle": "2022-11-29T09:47:14.36551Z",
          "shell.execute_reply.started": "2022-11-29T09:47:11.527296Z",
          "shell.execute_reply": "2022-11-29T09:47:14.36416Z"
        },
        "trusted": true,
        "id": "ua9jdhXesHAZ"
      },
      "execution_count": null,
      "outputs": []
    },
    {
      "cell_type": "markdown",
      "source": [
        "## XGBoost 모델"
      ],
      "metadata": {
        "id": "HhQgducQsHAZ"
      }
    },
    {
      "cell_type": "code",
      "source": [
        "from xgboost import XGBRegressor\n",
        "xgb = XGBRegressor()\n",
        "xgb.fit(X_train, y_train)\n",
        "pred = xgb.predict(X_val)\n",
        "r2_score(y_val, pred)"
      ],
      "metadata": {
        "execution": {
          "iopub.status.busy": "2022-11-29T09:47:21.571235Z",
          "iopub.execute_input": "2022-11-29T09:47:21.571653Z",
          "iopub.status.idle": "2022-11-29T09:47:22.290105Z",
          "shell.execute_reply.started": "2022-11-29T09:47:21.571619Z",
          "shell.execute_reply": "2022-11-29T09:47:22.289138Z"
        },
        "trusted": true,
        "id": "DyxikfyasHAZ"
      },
      "execution_count": null,
      "outputs": []
    },
    {
      "cell_type": "code",
      "source": [
        "# 하이퍼파라미터\n",
        "from xgboost import XGBRegressor\n",
        "xgb = XGBRegressor(n_estimators=500, learning_rate=0.01, max_depth=9)\n",
        "xgb.fit(X_train, y_train)\n",
        "pred = xgb.predict(X_val)\n",
        "r2_score(y_val, pred)"
      ],
      "metadata": {
        "execution": {
          "iopub.status.busy": "2022-11-29T09:51:12.560471Z",
          "iopub.execute_input": "2022-11-29T09:51:12.560956Z",
          "iopub.status.idle": "2022-11-29T09:51:18.972804Z",
          "shell.execute_reply.started": "2022-11-29T09:51:12.560915Z",
          "shell.execute_reply": "2022-11-29T09:51:18.971193Z"
        },
        "trusted": true,
        "id": "jTLy3Se_sHAa"
      },
      "execution_count": null,
      "outputs": []
    },
    {
      "cell_type": "markdown",
      "source": [
        "## test 데이터 예측"
      ],
      "metadata": {
        "id": "1-d0_RbzsHAa"
      }
    },
    {
      "cell_type": "code",
      "source": [
        "# 예측\n",
        "pred = xgb.predict(test)\n",
        "pred"
      ],
      "metadata": {
        "execution": {
          "iopub.status.busy": "2022-11-29T09:52:30.066962Z",
          "iopub.execute_input": "2022-11-29T09:52:30.067573Z",
          "iopub.status.idle": "2022-11-29T09:52:30.170069Z",
          "shell.execute_reply.started": "2022-11-29T09:52:30.067518Z",
          "shell.execute_reply": "2022-11-29T09:52:30.168826Z"
        },
        "trusted": true,
        "id": "n8l_vzcCsHAa"
      },
      "execution_count": null,
      "outputs": []
    },
    {
      "cell_type": "code",
      "source": [
        "# csv 파일 생성\n",
        "test = pd.read_csv(\"/kaggle/input/bike-sharing-demand/test.csv\")\n",
        "\n",
        "submit = pd.DataFrame({\n",
        "    'datetime': test['datetime'],\n",
        "    'count': pred\n",
        "})\n",
        "submit.to_csv(\"submission.csv\", index=False)"
      ],
      "metadata": {
        "execution": {
          "iopub.status.busy": "2022-11-29T10:08:01.33328Z",
          "iopub.execute_input": "2022-11-29T10:08:01.333695Z",
          "iopub.status.idle": "2022-11-29T10:08:01.371249Z",
          "shell.execute_reply.started": "2022-11-29T10:08:01.333662Z",
          "shell.execute_reply": "2022-11-29T10:08:01.369777Z"
        },
        "trusted": true,
        "id": "2ml1jp1ssHAa"
      },
      "execution_count": null,
      "outputs": []
    },
    {
      "cell_type": "code",
      "source": [
        "# 점검\n",
        "print(pd.read_csv(\"submission.csv\"))\n",
        "print(submit.shape, test.shape)"
      ],
      "metadata": {
        "execution": {
          "iopub.status.busy": "2022-11-29T10:08:54.124458Z",
          "iopub.execute_input": "2022-11-29T10:08:54.125247Z",
          "iopub.status.idle": "2022-11-29T10:08:54.154175Z",
          "shell.execute_reply.started": "2022-11-29T10:08:54.125196Z",
          "shell.execute_reply": "2022-11-29T10:08:54.152972Z"
        },
        "trusted": true,
        "id": "fKBwbZ9WsHAa"
      },
      "execution_count": null,
      "outputs": []
    }
  ]
}