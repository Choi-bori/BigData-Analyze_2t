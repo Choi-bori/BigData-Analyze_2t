{
 "cells": [
  {
   "cell_type": "markdown",
   "metadata": {
    "id": "eeQgU2s4wisb"
   },
   "source": [
    "1. 세션의 지속 시간을 분으로 계산하고 가장 긴 지속시간을 출력하시오(반올림 후 총 분만 출력)\n"
   ]
  },
  {
   "cell_type": "code",
   "execution_count": 3,
   "metadata": {
    "id": "R9AQ10b2wisd"
   },
   "outputs": [],
   "source": [
    "import pandas as pd\n",
    "# df = pd.read_csv(\"/kaggle/input/bigdatacertificationkr/website.csv\")"
   ]
  },
  {
   "cell_type": "code",
   "execution_count": 5,
   "metadata": {
    "id": "T17X3qj6wise"
   },
   "outputs": [
    {
     "data": {
      "text/html": [
       "<div>\n",
       "<style scoped>\n",
       "    .dataframe tbody tr th:only-of-type {\n",
       "        vertical-align: middle;\n",
       "    }\n",
       "\n",
       "    .dataframe tbody tr th {\n",
       "        vertical-align: top;\n",
       "    }\n",
       "\n",
       "    .dataframe thead th {\n",
       "        text-align: right;\n",
       "    }\n",
       "</style>\n",
       "<table border=\"1\" class=\"dataframe\">\n",
       "  <thead>\n",
       "    <tr style=\"text-align: right;\">\n",
       "      <th></th>\n",
       "      <th>UserID</th>\n",
       "      <th>StartTime</th>\n",
       "      <th>EndTime</th>\n",
       "      <th>Page</th>\n",
       "    </tr>\n",
       "  </thead>\n",
       "  <tbody>\n",
       "    <tr>\n",
       "      <th>0</th>\n",
       "      <td>1</td>\n",
       "      <td>2023-07-02 08:32:00</td>\n",
       "      <td>2023-07-02 12:41:00</td>\n",
       "      <td>Page1</td>\n",
       "    </tr>\n",
       "    <tr>\n",
       "      <th>1</th>\n",
       "      <td>1</td>\n",
       "      <td>2023-05-16 11:37:00</td>\n",
       "      <td>2023-05-16 13:29:00</td>\n",
       "      <td>Page5</td>\n",
       "    </tr>\n",
       "    <tr>\n",
       "      <th>2</th>\n",
       "      <td>1</td>\n",
       "      <td>2023-05-05 03:39:00</td>\n",
       "      <td>2023-05-05 05:48:00</td>\n",
       "      <td>Page2</td>\n",
       "    </tr>\n",
       "    <tr>\n",
       "      <th>3</th>\n",
       "      <td>1</td>\n",
       "      <td>2023-05-04 23:04:00</td>\n",
       "      <td>2023-05-05 01:54:00</td>\n",
       "      <td>Page3</td>\n",
       "    </tr>\n",
       "    <tr>\n",
       "      <th>4</th>\n",
       "      <td>1</td>\n",
       "      <td>2023-09-04 11:27:00</td>\n",
       "      <td>2023-09-04 14:09:00</td>\n",
       "      <td>Page1</td>\n",
       "    </tr>\n",
       "    <tr>\n",
       "      <th>...</th>\n",
       "      <td>...</td>\n",
       "      <td>...</td>\n",
       "      <td>...</td>\n",
       "      <td>...</td>\n",
       "    </tr>\n",
       "    <tr>\n",
       "      <th>9596</th>\n",
       "      <td>1202</td>\n",
       "      <td>2023-06-26 09:43:00</td>\n",
       "      <td>2023-06-26 13:43:00</td>\n",
       "      <td>Page3</td>\n",
       "    </tr>\n",
       "    <tr>\n",
       "      <th>9597</th>\n",
       "      <td>1202</td>\n",
       "      <td>2023-11-17 02:21:00</td>\n",
       "      <td>2023-11-17 04:31:00</td>\n",
       "      <td>Page3</td>\n",
       "    </tr>\n",
       "    <tr>\n",
       "      <th>9598</th>\n",
       "      <td>1202</td>\n",
       "      <td>2023-03-07 14:56:00</td>\n",
       "      <td>2023-03-07 17:27:00</td>\n",
       "      <td>Page2</td>\n",
       "    </tr>\n",
       "    <tr>\n",
       "      <th>9599</th>\n",
       "      <td>1202</td>\n",
       "      <td>2023-07-24 03:22:00</td>\n",
       "      <td>2023-07-24 06:58:00</td>\n",
       "      <td>Page2</td>\n",
       "    </tr>\n",
       "    <tr>\n",
       "      <th>9600</th>\n",
       "      <td>1202</td>\n",
       "      <td>2023-04-03 23:18:00</td>\n",
       "      <td>2023-04-04 03:55:00</td>\n",
       "      <td>Page5</td>\n",
       "    </tr>\n",
       "  </tbody>\n",
       "</table>\n",
       "<p>9601 rows × 4 columns</p>\n",
       "</div>"
      ],
      "text/plain": [
       "      UserID            StartTime              EndTime   Page\n",
       "0          1  2023-07-02 08:32:00  2023-07-02 12:41:00  Page1\n",
       "1          1  2023-05-16 11:37:00  2023-05-16 13:29:00  Page5\n",
       "2          1  2023-05-05 03:39:00  2023-05-05 05:48:00  Page2\n",
       "3          1  2023-05-04 23:04:00  2023-05-05 01:54:00  Page3\n",
       "4          1  2023-09-04 11:27:00  2023-09-04 14:09:00  Page1\n",
       "...      ...                  ...                  ...    ...\n",
       "9596    1202  2023-06-26 09:43:00  2023-06-26 13:43:00  Page3\n",
       "9597    1202  2023-11-17 02:21:00  2023-11-17 04:31:00  Page3\n",
       "9598    1202  2023-03-07 14:56:00  2023-03-07 17:27:00  Page2\n",
       "9599    1202  2023-07-24 03:22:00  2023-07-24 06:58:00  Page2\n",
       "9600    1202  2023-04-03 23:18:00  2023-04-04 03:55:00  Page5\n",
       "\n",
       "[9601 rows x 4 columns]"
      ]
     },
     "execution_count": 5,
     "metadata": {},
     "output_type": "execute_result"
    }
   ],
   "source": [
    "df = pd.read_csv('1유형 2.csv')\n",
    "df"
   ]
  },
  {
   "cell_type": "code",
   "execution_count": 12,
   "metadata": {
    "id": "_E3ScJbrwisf"
   },
   "outputs": [
    {
     "data": {
      "text/plain": [
       "300.0"
      ]
     },
     "execution_count": 12,
     "metadata": {},
     "output_type": "execute_result"
    }
   ],
   "source": [
    "df['StartTime_dt'] = pd.to_datetime(df['StartTime'])\n",
    "\n",
    "df['EndTime'] = pd.to_datetime(df['EndTime'])\n",
    "\n",
    "df['지속시간'] = (df['EndTime'] - df['StartTime_dt']).dt.total_seconds() / 60 \n",
    "df['지속시간'].max()"
   ]
  },
  {
   "cell_type": "code",
   "execution_count": 13,
   "metadata": {
    "id": "Cd9he9w0wisg"
   },
   "outputs": [
    {
     "name": "stdout",
     "output_type": "stream",
     "text": [
      "300\n"
     ]
    }
   ],
   "source": [
    "print(300)"
   ]
  },
  {
   "cell_type": "markdown",
   "metadata": {},
   "source": [
    "# 2번\n",
    "## 2. 가장 많이 머무른 Page를 찾고 그 페이지의 머문 평균 시간을 구하시오 (반올림 후 총 시간만 출력)\n"
   ]
  },
  {
   "cell_type": "code",
   "execution_count": null,
   "metadata": {},
   "outputs": [],
   "source": []
  },
  {
   "cell_type": "code",
   "execution_count": 23,
   "metadata": {
    "id": "swY4y04swisg"
   },
   "outputs": [],
   "source": [
    "page_max = df.pivot_table(index = 'Page', values = '지속시간', aggfunc = 'sum').sort_values(by = '지속시간', ascending =False).head(1).index[0]"
   ]
  },
  {
   "cell_type": "code",
   "execution_count": 24,
   "metadata": {
    "id": "NvOAQCypwisi"
   },
   "outputs": [
    {
     "data": {
      "text/plain": [
       "'Page5'"
      ]
     },
     "execution_count": 24,
     "metadata": {},
     "output_type": "execute_result"
    }
   ],
   "source": [
    "page_max"
   ]
  },
  {
   "cell_type": "code",
   "execution_count": 30,
   "metadata": {
    "id": "7G6WDYRWwisi"
   },
   "outputs": [
    {
     "data": {
      "text/plain": [
       "3"
      ]
     },
     "execution_count": 30,
     "metadata": {},
     "output_type": "execute_result"
    }
   ],
   "source": [
    "round(df.loc[df['Page'] == page_max]['지속시간'].mean()/60)"
   ]
  },
  {
   "cell_type": "code",
   "execution_count": null,
   "metadata": {
    "id": "02XFUVFuwisj"
   },
   "outputs": [],
   "source": []
  },
  {
   "cell_type": "markdown",
   "metadata": {
    "id": "7mYHenVUwisk"
   },
   "source": [
    "# 3번. \n",
    "## 사용자들이 가장 활발히 활동하는 시간대(예: 새벽, 오전, 오후, 저녁)를 분석하세요. 이를 위해 하루를 4개의 시간대로 나누고 각 시간대별로 가장 많이 시작된 세션의 수를 계산하고, 그 중에 가장 많은 세션 수를 출력하시오\n",
    "    - 새벽: 0시 부터 6시 전\n",
    "    - 오전: 6시 부터 12시 전\n",
    "    - 오후: 12 부터 18시 전\n",
    "    - 저녁: 18시 부터 0시 전\n",
    "\n"
   ]
  },
  {
   "cell_type": "code",
   "execution_count": 31,
   "metadata": {
    "id": "rYL2cUH-wisl"
   },
   "outputs": [],
   "source": [
    "def time_split(hour):\n",
    "    if 0 <= hour < 6:\n",
    "        return \"새벽\"\n",
    "    elif 6 <= hour < 12:\n",
    "        return \"오전\"\n",
    "    elif 12 <= hour < 18:\n",
    "        return \"오후\"\n",
    "    else:\n",
    "        return \"저녁\"\n"
   ]
  },
  {
   "cell_type": "code",
   "execution_count": 43,
   "metadata": {},
   "outputs": [
    {
     "name": "stderr",
     "output_type": "stream",
     "text": [
      "C:\\Users\\campus2H058\\AppData\\Local\\Temp\\ipykernel_20924\\354401308.py:4: FutureWarning: Series.__getitem__ treating keys as positions is deprecated. In a future version, integer keys will always be treated as labels (consistent with DataFrame behavior). To access a value by position, use `ser.iloc[pos]`\n",
      "  df['시간대'].value_counts()[0]\n"
     ]
    },
    {
     "data": {
      "text/plain": [
       "2447"
      ]
     },
     "execution_count": 43,
     "metadata": {},
     "output_type": "execute_result"
    }
   ],
   "source": [
    "df['시작시간'] = df['StartTime_dt'].dt.hour\n",
    "\n",
    "df['시간대'] = df['시작시간'].apply(time_split)\n",
    "df['시간대'].value_counts()[0]"
   ]
  },
  {
   "cell_type": "code",
   "execution_count": null,
   "metadata": {},
   "outputs": [],
   "source": []
  },
  {
   "cell_type": "markdown",
   "metadata": {
    "id": "5lyBEgZkwisl"
   },
   "source": [
    "# 4번\n",
    "## 4. user가 가장 많이 접속 했던 날짜를 출력하시오. (예, 2023-02-17)"
   ]
  },
  {
   "cell_type": "code",
   "execution_count": 54,
   "metadata": {},
   "outputs": [
    {
     "data": {
      "text/plain": [
       "'2023-03-28'"
      ]
     },
     "execution_count": 54,
     "metadata": {},
     "output_type": "execute_result"
    }
   ],
   "source": [
    "df['StartTime_day'] = df['StartTime_dt'].dt.strftime('%Y-%m-%d')\n",
    "\n",
    "\n",
    "df.pivot_table(index = 'StartTime_day' , values = 'UserID', aggfunc = 'count').sort_values(by = 'UserID', ascending = False).index[0]"
   ]
  },
  {
   "cell_type": "code",
   "execution_count": null,
   "metadata": {},
   "outputs": [],
   "source": []
  },
  {
   "cell_type": "code",
   "execution_count": null,
   "metadata": {
    "id": "DQBxNhh6wism"
   },
   "outputs": [],
   "source": []
  },
  {
   "cell_type": "code",
   "execution_count": null,
   "metadata": {
    "id": "fU7XSRTdwism"
   },
   "outputs": [],
   "source": []
  },
  {
   "cell_type": "code",
   "execution_count": null,
   "metadata": {
    "id": "piErK2Tzwism"
   },
   "outputs": [],
   "source": []
  },
  {
   "cell_type": "code",
   "execution_count": null,
   "metadata": {
    "id": "mep-zZJrwisn"
   },
   "outputs": [],
   "source": []
  },
  {
   "cell_type": "code",
   "execution_count": null,
   "metadata": {
    "id": "rELw69gQwisn"
   },
   "outputs": [],
   "source": []
  },
  {
   "cell_type": "code",
   "execution_count": null,
   "metadata": {
    "id": "Bm4sxoV7wisn"
   },
   "outputs": [],
   "source": []
  },
  {
   "cell_type": "markdown",
   "metadata": {
    "id": "jynuQ9-Ywp0r"
   },
   "source": [
    "풀이"
   ]
  },
  {
   "cell_type": "code",
   "execution_count": null,
   "metadata": {
    "id": "JcwRocmdwiso"
   },
   "outputs": [],
   "source": [
    "# 1\n",
    "# 날짜 형식으로 변환\n",
    "df['StartTime'] = pd.to_datetime(df['StartTime'])\n",
    "df['EndTime'] = pd.to_datetime(df['EndTime'])\n",
    "df['SessionDuration'] = (df['EndTime'] - df['StartTime']).dt.total_seconds() / 60\n",
    "print(df['SessionDuration'].max())"
   ]
  },
  {
   "cell_type": "code",
   "execution_count": null,
   "metadata": {
    "id": "R0yKtkf0wisp"
   },
   "outputs": [],
   "source": [
    "# 2\n",
    "most_visited_page = df['Page'].value_counts().idxmax()\n",
    "cond = df['Page'] == most_visited_page\n",
    "result = df[cond]['SessionDuration'].mean()\n",
    "print(round(result/60))"
   ]
  },
  {
   "cell_type": "code",
   "execution_count": null,
   "metadata": {
    "id": "jlWNgo7ewisq"
   },
   "outputs": [],
   "source": [
    "# 3\n",
    "def time_slot(hour):\n",
    "    if 0 <= hour < 6:\n",
    "        return \"새벽\"\n",
    "    elif 6 <= hour < 12:\n",
    "        return \"오전\"\n",
    "    elif 12 <= hour < 18:\n",
    "        return \"오후\"\n",
    "    else:\n",
    "        return \"저녁\"\n",
    "\n",
    "df['TimeSlot'] = df['StartTime'].dt.hour.apply(time_slot)\n",
    "print(df['TimeSlot'].value_counts()[0])"
   ]
  },
  {
   "cell_type": "code",
   "execution_count": null,
   "metadata": {
    "execution": {
     "iopub.execute_input": "2023-11-26T00:36:09.881015Z",
     "iopub.status.busy": "2023-11-26T00:36:09.880054Z",
     "iopub.status.idle": "2023-11-26T00:36:09.897356Z",
     "shell.execute_reply": "2023-11-26T00:36:09.896195Z",
     "shell.execute_reply.started": "2023-11-26T00:36:09.880966Z"
    },
    "id": "WF9Fk_TKwisq"
   },
   "outputs": [],
   "source": [
    "# 4\n",
    "result = df['StartTime'].dt.date.value_counts().index[0]\n",
    "print(result.strftime('%Y-%m-%d'))"
   ]
  }
 ],
 "metadata": {
  "colab": {
   "name": "T1-33. timedelta - py",
   "provenance": []
  },
  "kaggle": {
   "accelerator": "none",
   "dataSources": [
    {
     "datasetId": 1633303,
     "sourceId": 7047032,
     "sourceType": "datasetVersion"
    }
   ],
   "dockerImageVersionId": 30579,
   "isGpuEnabled": false,
   "isInternetEnabled": true,
   "language": "python",
   "sourceType": "notebook"
  },
  "kernelspec": {
   "display_name": "Python 3 (ipykernel)",
   "language": "python",
   "name": "python3"
  },
  "language_info": {
   "codemirror_mode": {
    "name": "ipython",
    "version": 3
   },
   "file_extension": ".py",
   "mimetype": "text/x-python",
   "name": "python",
   "nbconvert_exporter": "python",
   "pygments_lexer": "ipython3",
   "version": "3.12.4"
  }
 },
 "nbformat": 4,
 "nbformat_minor": 4
}
