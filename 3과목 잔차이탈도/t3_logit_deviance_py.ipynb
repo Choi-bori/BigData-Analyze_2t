{
 "cells": [
  {
   "cell_type": "markdown",
   "metadata": {
    "id": "eHa8ZBxHYHu6"
   },
   "source": [
    "### 잔차이탈도를 구하시오\n",
    "고객 정보를 나타낸 데이터이다. 주어진 데이터에서 500개 중 앞에서부터 300개는 train으로, 200개는 test 데이터로 나눈다. 모델을 학습(적합)할 때는 train 데이터를 사용하고, 예측할 때는 test 데이터를 사용한다. 모델은 로지스틱 회귀를 써서 고객이 특정 제품을 구매할지 여부를 예측하되, 페널티는 부과하지 않는다.\n",
    "\n",
    "종속변수: purchase (0: 구매 안 함, 1: 구매 함)\n",
    "\n",
    "Q. age, income, marital_status 변수를 독립변수로 purchase를 종속변수로 사용하여 로지스틱 회귀 모형을 만들고, 잔차이탈도를 구하시오. (반올림하여 소수 넷째자리까지 계산)"
   ]
  },
  {
   "cell_type": "code",
   "execution_count": 23,
   "metadata": {
    "execution": {
     "iopub.execute_input": "2024-06-20T00:38:16.718301Z",
     "iopub.status.busy": "2024-06-20T00:38:16.717879Z",
     "iopub.status.idle": "2024-06-20T00:38:17.911929Z",
     "shell.execute_reply": "2024-06-20T00:38:17.910696Z",
     "shell.execute_reply.started": "2024-06-20T00:38:16.718266Z"
    },
    "id": "4KJrbnd8YHu7"
   },
   "outputs": [
    {
     "data": {
      "text/plain": [
       "age               0\n",
       "income            0\n",
       "marital_status    0\n",
       "children          0\n",
       "gender            0\n",
       "purchase          0\n",
       "dtype: int64"
      ]
     },
     "execution_count": 23,
     "metadata": {},
     "output_type": "execute_result"
    }
   ],
   "source": [
    "import pandas as pd\n",
    "# df = pd.read_csv(\"/kaggle/input/bigdatacertificationkr/Customer_Data.csv\")\n",
    "df = pd.read_csv('Customer_Data.csv')\n",
    "df.isna().sum()"
   ]
  },
  {
   "cell_type": "code",
   "execution_count": 42,
   "metadata": {},
   "outputs": [],
   "source": [
    "import statsmodels.api as sm\n",
    "from statsmodels.formula.api import logit"
   ]
  },
  {
   "cell_type": "code",
   "execution_count": null,
   "metadata": {},
   "outputs": [],
   "source": []
  },
  {
   "cell_type": "code",
   "execution_count": 44,
   "metadata": {},
   "outputs": [],
   "source": [
    "import statsmodels.api as sm\n",
    "from statsmodels.formula.api import logit, glm"
   ]
  },
  {
   "cell_type": "code",
   "execution_count": 47,
   "metadata": {},
   "outputs": [],
   "source": [
    "test_df = df[:300]\n",
    "train_df = df[300:]"
   ]
  },
  {
   "cell_type": "code",
   "execution_count": 68,
   "metadata": {},
   "outputs": [
    {
     "name": "stdout",
     "output_type": "stream",
     "text": [
      "Optimization terminated successfully.\n",
      "         Current function value: 0.687415\n",
      "         Iterations 4\n"
     ]
    },
    {
     "data": {
      "text/html": [
       "<table class=\"simpletable\">\n",
       "<caption>Logit Regression Results</caption>\n",
       "<tr>\n",
       "  <th>Dep. Variable:</th>       <td>purchase</td>     <th>  No. Observations:  </th>  <td>   300</td> \n",
       "</tr>\n",
       "<tr>\n",
       "  <th>Model:</th>                 <td>Logit</td>      <th>  Df Residuals:      </th>  <td>   296</td> \n",
       "</tr>\n",
       "<tr>\n",
       "  <th>Method:</th>                 <td>MLE</td>       <th>  Df Model:          </th>  <td>     3</td> \n",
       "</tr>\n",
       "<tr>\n",
       "  <th>Date:</th>            <td>Tue, 26 Nov 2024</td> <th>  Pseudo R-squ.:     </th> <td>0.007474</td>\n",
       "</tr>\n",
       "<tr>\n",
       "  <th>Time:</th>                <td>20:37:18</td>     <th>  Log-Likelihood:    </th> <td> -206.22</td>\n",
       "</tr>\n",
       "<tr>\n",
       "  <th>converged:</th>             <td>True</td>       <th>  LL-Null:           </th> <td> -207.78</td>\n",
       "</tr>\n",
       "<tr>\n",
       "  <th>Covariance Type:</th>     <td>nonrobust</td>    <th>  LLR p-value:       </th>  <td>0.3756</td> \n",
       "</tr>\n",
       "</table>\n",
       "<table class=\"simpletable\">\n",
       "<tr>\n",
       "         <td></td>           <th>coef</th>     <th>std err</th>      <th>z</th>      <th>P>|z|</th>  <th>[0.025</th>    <th>0.975]</th>  \n",
       "</tr>\n",
       "<tr>\n",
       "  <th>Intercept</th>      <td>    0.3407</td> <td>    0.452</td> <td>    0.753</td> <td> 0.451</td> <td>   -0.546</td> <td>    1.227</td>\n",
       "</tr>\n",
       "<tr>\n",
       "  <th>age</th>            <td>   -0.0094</td> <td>    0.008</td> <td>   -1.236</td> <td> 0.216</td> <td>   -0.024</td> <td>    0.005</td>\n",
       "</tr>\n",
       "<tr>\n",
       "  <th>income</th>         <td> 3.636e-06</td> <td> 4.02e-06</td> <td>    0.904</td> <td> 0.366</td> <td>-4.25e-06</td> <td> 1.15e-05</td>\n",
       "</tr>\n",
       "<tr>\n",
       "  <th>marital_status</th> <td>   -0.2192</td> <td>    0.235</td> <td>   -0.931</td> <td> 0.352</td> <td>   -0.680</td> <td>    0.242</td>\n",
       "</tr>\n",
       "</table>"
      ],
      "text/plain": [
       "<class 'statsmodels.iolib.summary.Summary'>\n",
       "\"\"\"\n",
       "                           Logit Regression Results                           \n",
       "==============================================================================\n",
       "Dep. Variable:               purchase   No. Observations:                  300\n",
       "Model:                          Logit   Df Residuals:                      296\n",
       "Method:                           MLE   Df Model:                            3\n",
       "Date:                Tue, 26 Nov 2024   Pseudo R-squ.:                0.007474\n",
       "Time:                        20:37:18   Log-Likelihood:                -206.22\n",
       "converged:                       True   LL-Null:                       -207.78\n",
       "Covariance Type:            nonrobust   LLR p-value:                    0.3756\n",
       "==================================================================================\n",
       "                     coef    std err          z      P>|z|      [0.025      0.975]\n",
       "----------------------------------------------------------------------------------\n",
       "Intercept          0.3407      0.452      0.753      0.451      -0.546       1.227\n",
       "age               -0.0094      0.008     -1.236      0.216      -0.024       0.005\n",
       "income          3.636e-06   4.02e-06      0.904      0.366   -4.25e-06    1.15e-05\n",
       "marital_status    -0.2192      0.235     -0.931      0.352      -0.680       0.242\n",
       "==================================================================================\n",
       "\"\"\""
      ]
     },
     "execution_count": 68,
     "metadata": {},
     "output_type": "execute_result"
    }
   ],
   "source": [
    "model = logit('purchase ~ age + income + marital_status', data = test_df).fit()\n",
    "model.summary()"
   ]
  },
  {
   "cell_type": "code",
   "execution_count": 69,
   "metadata": {},
   "outputs": [
    {
     "name": "stdout",
     "output_type": "stream",
     "text": [
      "412.45\n"
     ]
    }
   ],
   "source": [
    "print(round(-2 * model.llf,2))"
   ]
  },
  {
   "cell_type": "code",
   "execution_count": null,
   "metadata": {},
   "outputs": [],
   "source": [
    "\n"
   ]
  },
  {
   "cell_type": "code",
   "execution_count": null,
   "metadata": {},
   "outputs": [],
   "source": []
  },
  {
   "cell_type": "code",
   "execution_count": null,
   "metadata": {},
   "outputs": [],
   "source": []
  },
  {
   "cell_type": "code",
   "execution_count": null,
   "metadata": {},
   "outputs": [],
   "source": []
  },
  {
   "cell_type": "code",
   "execution_count": null,
   "metadata": {},
   "outputs": [],
   "source": []
  },
  {
   "cell_type": "code",
   "execution_count": null,
   "metadata": {},
   "outputs": [],
   "source": [
    "# 다시풀어볼게요"
   ]
  },
  {
   "cell_type": "code",
   "execution_count": 4,
   "metadata": {
    "id": "AVRdPKCtYHu8"
   },
   "outputs": [],
   "source": [
    "from sklearn.model_selection import train_test_split"
   ]
  },
  {
   "cell_type": "code",
   "execution_count": 15,
   "metadata": {},
   "outputs": [],
   "source": [
    "X = df.drop('purchase', axis = 1)\n",
    "Y = df['purchase']"
   ]
  },
  {
   "cell_type": "code",
   "execution_count": 28,
   "metadata": {
    "id": "4tvu3YqtYHu8"
   },
   "outputs": [],
   "source": [
    "x_train, x_test, y_train, y_test = train_test_split(X,Y, test_size = 0.4)"
   ]
  },
  {
   "cell_type": "code",
   "execution_count": 29,
   "metadata": {
    "id": "DAj9e_O8YHu8"
   },
   "outputs": [],
   "source": [
    "from sklearn.linear_model import LogisticRegression"
   ]
  },
  {
   "cell_type": "code",
   "execution_count": 30,
   "metadata": {
    "id": "EITEdCU5YHu8"
   },
   "outputs": [
    {
     "data": {
      "text/plain": [
       "LogisticRegression()"
      ]
     },
     "execution_count": 30,
     "metadata": {},
     "output_type": "execute_result"
    }
   ],
   "source": [
    "model = LogisticRegression()\n",
    "model.fit(x_train, y_train)"
   ]
  },
  {
   "cell_type": "code",
   "execution_count": null,
   "metadata": {},
   "outputs": [],
   "source": []
  },
  {
   "cell_type": "code",
   "execution_count": 31,
   "metadata": {
    "id": "fsc-H75oYHu8"
   },
   "outputs": [
    {
     "ename": "AttributeError",
     "evalue": "'LogisticRegression' object has no attribute 'summary'",
     "output_type": "error",
     "traceback": [
      "\u001b[1;31m---------------------------------------------------------------------------\u001b[0m",
      "\u001b[1;31mAttributeError\u001b[0m                            Traceback (most recent call last)",
      "Cell \u001b[1;32mIn[31], line 1\u001b[0m\n\u001b[1;32m----> 1\u001b[0m \u001b[38;5;28mprint\u001b[39m(\u001b[43mmodel\u001b[49m\u001b[38;5;241;43m.\u001b[39;49m\u001b[43msummary\u001b[49m())\n\u001b[0;32m      2\u001b[0m \u001b[38;5;28mprint\u001b[39m(\u001b[38;5;28mround\u001b[39m(model\u001b[38;5;241m.\u001b[39mdeviance,\u001b[38;5;241m2\u001b[39m))\n",
      "\u001b[1;31mAttributeError\u001b[0m: 'LogisticRegression' object has no attribute 'summary'"
     ]
    }
   ],
   "source": [
    "print(model.summary())\n",
    "print(round(model.deviance,2))"
   ]
  },
  {
   "cell_type": "code",
   "execution_count": null,
   "metadata": {
    "id": "e9kPqDFTYHu9"
   },
   "outputs": [],
   "source": []
  },
  {
   "cell_type": "code",
   "execution_count": null,
   "metadata": {
    "id": "3XGbgBuMYHu9"
   },
   "outputs": [],
   "source": []
  },
  {
   "cell_type": "code",
   "execution_count": null,
   "metadata": {
    "id": "GIgzWkQEYHu9"
   },
   "outputs": [],
   "source": []
  },
  {
   "cell_type": "code",
   "execution_count": null,
   "metadata": {
    "id": "5vbgebCOYHu9"
   },
   "outputs": [],
   "source": []
  },
  {
   "cell_type": "markdown",
   "metadata": {
    "id": "kFEDrdOfYO6H"
   },
   "source": [
    "풀이"
   ]
  },
  {
   "cell_type": "code",
   "execution_count": 59,
   "metadata": {
    "execution": {
     "iopub.execute_input": "2024-06-20T00:42:18.836288Z",
     "iopub.status.busy": "2024-06-20T00:42:18.835893Z",
     "iopub.status.idle": "2024-06-20T00:42:18.875503Z",
     "shell.execute_reply": "2024-06-20T00:42:18.874173Z",
     "shell.execute_reply.started": "2024-06-20T00:42:18.836259Z"
    },
    "id": "YDwkWAwPYHu9"
   },
   "outputs": [
    {
     "name": "stdout",
     "output_type": "stream",
     "text": [
      "Optimization terminated successfully.\n",
      "         Current function value: 0.687415\n",
      "         Iterations 4\n",
      "                           Logit Regression Results                           \n",
      "==============================================================================\n",
      "Dep. Variable:               purchase   No. Observations:                  300\n",
      "Model:                          Logit   Df Residuals:                      296\n",
      "Method:                           MLE   Df Model:                            3\n",
      "Date:                Tue, 26 Nov 2024   Pseudo R-squ.:                0.007474\n",
      "Time:                        20:28:13   Log-Likelihood:                -206.22\n",
      "converged:                       True   LL-Null:                       -207.78\n",
      "Covariance Type:            nonrobust   LLR p-value:                    0.3756\n",
      "==================================================================================\n",
      "                     coef    std err          z      P>|z|      [0.025      0.975]\n",
      "----------------------------------------------------------------------------------\n",
      "Intercept          0.3407      0.452      0.753      0.451      -0.546       1.227\n",
      "age               -0.0094      0.008     -1.236      0.216      -0.024       0.005\n",
      "income          3.636e-06   4.02e-06      0.904      0.366   -4.25e-06    1.15e-05\n",
      "marital_status    -0.2192      0.235     -0.931      0.352      -0.680       0.242\n",
      "==================================================================================\n"
     ]
    }
   ],
   "source": [
    "# 방법1\n",
    "import pandas as pd\n",
    "from statsmodels.formula.api import logit\n",
    "#df = pd.read_csv(\"/kaggle/input/bigdatacertificationkr/Customer_Data.csv\")\n",
    "\n",
    "# 데이터셋 분할\n",
    "train = df.iloc[:300]\n",
    "test = df.iloc[300:]\n",
    "\n",
    "model = logit('purchase ~ age + income + marital_status', data=train).fit()\n",
    "print(model.summary())"
   ]
  },
  {
   "cell_type": "code",
   "execution_count": 60,
   "metadata": {
    "execution": {
     "iopub.execute_input": "2024-06-20T00:43:10.366117Z",
     "iopub.status.busy": "2024-06-20T00:43:10.365711Z",
     "iopub.status.idle": "2024-06-20T00:43:10.372097Z",
     "shell.execute_reply": "2024-06-20T00:43:10.370973Z",
     "shell.execute_reply.started": "2024-06-20T00:43:10.366084Z"
    },
    "id": "hP4IJuvkYHu9"
   },
   "outputs": [
    {
     "name": "stdout",
     "output_type": "stream",
     "text": [
      "412.45\n"
     ]
    }
   ],
   "source": [
    "print(round(-2 * model.llf,2))"
   ]
  },
  {
   "cell_type": "code",
   "execution_count": null,
   "metadata": {
    "execution": {
     "iopub.execute_input": "2024-06-20T00:43:56.880858Z",
     "iopub.status.busy": "2024-06-20T00:43:56.880437Z",
     "iopub.status.idle": "2024-06-20T00:43:56.888084Z",
     "shell.execute_reply": "2024-06-20T00:43:56.886771Z",
     "shell.execute_reply.started": "2024-06-20T00:43:56.880827Z"
    },
    "id": "eIIimTHdYHu9"
   },
   "outputs": [],
   "source": [
    "# summary 만 보고 계산하면 소수점이 모두 나오지 않기 때문에 차이가 있음\n",
    "-2 * -206.22"
   ]
  },
  {
   "cell_type": "code",
   "execution_count": null,
   "metadata": {
    "execution": {
     "iopub.execute_input": "2024-06-20T00:45:36.787363Z",
     "iopub.status.busy": "2024-06-20T00:45:36.78693Z",
     "iopub.status.idle": "2024-06-20T00:45:38.00678Z",
     "shell.execute_reply": "2024-06-20T00:45:38.005685Z",
     "shell.execute_reply.started": "2024-06-20T00:45:36.78733Z"
    },
    "id": "L_bxvmAGYHu9"
   },
   "outputs": [],
   "source": [
    "# 방법2 glm 활용\n",
    "from statsmodels.formula.api import glm\n",
    "import statsmodels.api as sm\n",
    "\n",
    "# 1) glm 모델 적합 (로지스틱 회귀를 위해 이항 분포 사용)\n",
    "formula = \"purchase ~ age + income + marital_status\"\n",
    "model = glm(formula, data=train, family=sm.families.Binomial()).fit()\n",
    "\n",
    "# 2) 잔차이탈도 계산\n",
    "print(model.summary())\n",
    "print(round(model.deviance,2))"
   ]
  },
  {
   "cell_type": "code",
   "execution_count": null,
   "metadata": {
    "id": "SXciM80FYHu-"
   },
   "outputs": [],
   "source": []
  }
 ],
 "metadata": {
  "colab": {
   "name": "t3-logit-deviance-py",
   "provenance": []
  },
  "kaggle": {
   "accelerator": "none",
   "dataSources": [
    {
     "datasetId": 1633303,
     "sourceId": 9936200,
     "sourceType": "datasetVersion"
    }
   ],
   "dockerImageVersionId": 30732,
   "isGpuEnabled": false,
   "isInternetEnabled": false,
   "language": "python",
   "sourceType": "notebook"
  },
  "kernelspec": {
   "display_name": "Python 3 (ipykernel)",
   "language": "python",
   "name": "python3"
  },
  "language_info": {
   "codemirror_mode": {
    "name": "ipython",
    "version": 3
   },
   "file_extension": ".py",
   "mimetype": "text/x-python",
   "name": "python",
   "nbconvert_exporter": "python",
   "pygments_lexer": "ipython3",
   "version": "3.10.9"
  }
 },
 "nbformat": 4,
 "nbformat_minor": 1
}
