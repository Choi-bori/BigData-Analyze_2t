{
 "cells": [
  {
   "cell_type": "markdown",
   "metadata": {
    "id": "GfuzyDE_ZXlb"
   },
   "source": [
    "\n",
    "## 크리스마스 장식 종류와 지역에 따라 판매량에 유의미한 차이가 있는지 이원 분산 분석을 통해 검정하세요\n",
    "\n",
    "\n",
    "1. 크리스마스 장식 종류(트리, 조명, 장식품)가 판매량에 미치는 영향을 분석하세요. 이때, 장식 종류의 F-value, p-value를 구하시오\n",
    "2. 지역(북부, 남부, 동부, 서부)이 판매량에 미치는 영향을 분석하세요. 이때, 장식 종류의 F-value, p-value를 구하시오\n",
    "3. 크리스마스 장식 종류와 지역의 상호작용이 판매량에 미치는 영향을 분석하세요. 이때, 장식 종류의 F-value, p-value를 구하시오"
   ]
  },
  {
   "cell_type": "code",
   "execution_count": 7,
   "metadata": {
    "id": "woTz-CDFZXlf"
   },
   "outputs": [],
   "source": [
    "import pandas as pd \n",
    "import statsmodels.api as sm\n",
    "from statsmodels.formula.api import ols"
   ]
  },
  {
   "cell_type": "code",
   "execution_count": 9,
   "metadata": {
    "id": "8jfuXNldZXlg"
   },
   "outputs": [
    {
     "data": {
      "text/html": [
       "<div>\n",
       "<style scoped>\n",
       "    .dataframe tbody tr th:only-of-type {\n",
       "        vertical-align: middle;\n",
       "    }\n",
       "\n",
       "    .dataframe tbody tr th {\n",
       "        vertical-align: top;\n",
       "    }\n",
       "\n",
       "    .dataframe thead th {\n",
       "        text-align: right;\n",
       "    }\n",
       "</style>\n",
       "<table border=\"1\" class=\"dataframe\">\n",
       "  <thead>\n",
       "    <tr style=\"text-align: right;\">\n",
       "      <th></th>\n",
       "      <th>Decoration_Type</th>\n",
       "      <th>Region</th>\n",
       "      <th>Sales</th>\n",
       "    </tr>\n",
       "  </thead>\n",
       "  <tbody>\n",
       "    <tr>\n",
       "      <th>0</th>\n",
       "      <td>트리</td>\n",
       "      <td>북부</td>\n",
       "      <td>64</td>\n",
       "    </tr>\n",
       "    <tr>\n",
       "      <th>1</th>\n",
       "      <td>트리</td>\n",
       "      <td>남부</td>\n",
       "      <td>67</td>\n",
       "    </tr>\n",
       "  </tbody>\n",
       "</table>\n",
       "</div>"
      ],
      "text/plain": [
       "  Decoration_Type Region  Sales\n",
       "0              트리     북부     64\n",
       "1              트리     남부     67"
      ]
     },
     "execution_count": 9,
     "metadata": {},
     "output_type": "execute_result"
    }
   ],
   "source": [
    "df = pd.read_csv('christmas_decoration_sales.csv')\n",
    "df.head(2)"
   ]
  },
  {
   "cell_type": "code",
   "execution_count": 19,
   "metadata": {
    "id": "fiP41DfwZXlg"
   },
   "outputs": [
    {
     "data": {
      "text/html": [
       "<div>\n",
       "<style scoped>\n",
       "    .dataframe tbody tr th:only-of-type {\n",
       "        vertical-align: middle;\n",
       "    }\n",
       "\n",
       "    .dataframe tbody tr th {\n",
       "        vertical-align: top;\n",
       "    }\n",
       "\n",
       "    .dataframe thead th {\n",
       "        text-align: right;\n",
       "    }\n",
       "</style>\n",
       "<table border=\"1\" class=\"dataframe\">\n",
       "  <thead>\n",
       "    <tr style=\"text-align: right;\">\n",
       "      <th></th>\n",
       "      <th>df</th>\n",
       "      <th>sum_sq</th>\n",
       "      <th>mean_sq</th>\n",
       "      <th>F</th>\n",
       "      <th>PR(&gt;F)</th>\n",
       "    </tr>\n",
       "  </thead>\n",
       "  <tbody>\n",
       "    <tr>\n",
       "      <th>C(Decoration_Type)</th>\n",
       "      <td>2.0</td>\n",
       "      <td>1764.500000</td>\n",
       "      <td>882.250000</td>\n",
       "      <td>2.370578</td>\n",
       "      <td>0.114943</td>\n",
       "    </tr>\n",
       "    <tr>\n",
       "      <th>C(Region)</th>\n",
       "      <td>3.0</td>\n",
       "      <td>804.305556</td>\n",
       "      <td>268.101852</td>\n",
       "      <td>0.720381</td>\n",
       "      <td>0.549614</td>\n",
       "    </tr>\n",
       "    <tr>\n",
       "      <th>C(Decoration_Type):C(Region)</th>\n",
       "      <td>6.0</td>\n",
       "      <td>5153.944444</td>\n",
       "      <td>858.990741</td>\n",
       "      <td>2.308081</td>\n",
       "      <td>0.066915</td>\n",
       "    </tr>\n",
       "    <tr>\n",
       "      <th>Residual</th>\n",
       "      <td>24.0</td>\n",
       "      <td>8932.000000</td>\n",
       "      <td>372.166667</td>\n",
       "      <td>NaN</td>\n",
       "      <td>NaN</td>\n",
       "    </tr>\n",
       "  </tbody>\n",
       "</table>\n",
       "</div>"
      ],
      "text/plain": [
       "                                df       sum_sq     mean_sq         F  \\\n",
       "C(Decoration_Type)             2.0  1764.500000  882.250000  2.370578   \n",
       "C(Region)                      3.0   804.305556  268.101852  0.720381   \n",
       "C(Decoration_Type):C(Region)   6.0  5153.944444  858.990741  2.308081   \n",
       "Residual                      24.0  8932.000000  372.166667       NaN   \n",
       "\n",
       "                                PR(>F)  \n",
       "C(Decoration_Type)            0.114943  \n",
       "C(Region)                     0.549614  \n",
       "C(Decoration_Type):C(Region)  0.066915  \n",
       "Residual                           NaN  "
      ]
     },
     "execution_count": 19,
     "metadata": {},
     "output_type": "execute_result"
    }
   ],
   "source": [
    "model_ols = ols('Sales ~ C(Decoration_Type) * C(Region)', data = df).fit()\n",
    "sm.stats.anova_lm(model_ols)"
   ]
  },
  {
   "cell_type": "markdown",
   "metadata": {
    "id": "4xswEga4ZXlh"
   },
   "source": [
    "###  1. 크리스마스 장식 종류(트리, 조명, 장식품)가 판매량에 미치는 영향을 분석하세요. 이때, 장식 종류의 F-value, p-value를 구하시오\n"
   ]
  },
  {
   "cell_type": "code",
   "execution_count": 39,
   "metadata": {},
   "outputs": [
    {
     "data": {
      "text/plain": [
       "index     C(Decoration_Type)\n",
       "F                   2.370578\n",
       "PR(>F)              0.114943\n",
       "Name: 0, dtype: object"
      ]
     },
     "execution_count": 39,
     "metadata": {},
     "output_type": "execute_result"
    }
   ],
   "source": [
    "pd.DataFrame(sm.stats.anova_lm(model_ols))[['F','PR(>F)']].reset_index().loc[0]"
   ]
  },
  {
   "cell_type": "code",
   "execution_count": null,
   "metadata": {},
   "outputs": [],
   "source": []
  },
  {
   "cell_type": "markdown",
   "metadata": {
    "id": "LcspdmzrZXli"
   },
   "source": [
    "\n",
    "### 2. 지역(북부, 남부, 동부, 서부)이 판매량에 미치는 영향을 분석하세요. 이때, 장식 종류의 F-value, p-value를 구하시오\n"
   ]
  },
  {
   "cell_type": "code",
   "execution_count": 41,
   "metadata": {},
   "outputs": [
    {
     "data": {
      "text/plain": [
       "index     C(Region)\n",
       "F          0.720381\n",
       "PR(>F)     0.549614\n",
       "Name: 1, dtype: object"
      ]
     },
     "execution_count": 41,
     "metadata": {},
     "output_type": "execute_result"
    }
   ],
   "source": [
    "pd.DataFrame(sm.stats.anova_lm(model_ols))[['F','PR(>F)']].reset_index().loc[1]"
   ]
  },
  {
   "cell_type": "markdown",
   "metadata": {
    "id": "OVdOo6f4ZXlj"
   },
   "source": [
    "### 3. 크리스마스 장식 종류와 지역의 상호작용이 판매량에 미치는 영향을 분석하세요. 이때, 장식 종류의 F-value, p-value를 구하시오"
   ]
  },
  {
   "cell_type": "code",
   "execution_count": 42,
   "metadata": {
    "id": "HdFwkAyxZXlk"
   },
   "outputs": [
    {
     "data": {
      "text/plain": [
       "index     C(Decoration_Type):C(Region)\n",
       "F                             2.308081\n",
       "PR(>F)                        0.066915\n",
       "Name: 2, dtype: object"
      ]
     },
     "execution_count": 42,
     "metadata": {},
     "output_type": "execute_result"
    }
   ],
   "source": [
    "pd.DataFrame(sm.stats.anova_lm(model_ols))[['F','PR(>F)']].reset_index().loc[2]"
   ]
  },
  {
   "cell_type": "code",
   "execution_count": null,
   "metadata": {
    "id": "aOyoI0byZXll"
   },
   "outputs": [],
   "source": []
  },
  {
   "cell_type": "code",
   "execution_count": null,
   "metadata": {
    "id": "uAx3lAW0ZXll"
   },
   "outputs": [],
   "source": []
  },
  {
   "cell_type": "code",
   "execution_count": null,
   "metadata": {
    "id": "1-oWQf2sZXlm"
   },
   "outputs": [],
   "source": []
  },
  {
   "cell_type": "code",
   "execution_count": null,
   "metadata": {
    "id": "BbBONnAwZXln"
   },
   "outputs": [],
   "source": []
  },
  {
   "cell_type": "code",
   "execution_count": null,
   "metadata": {
    "id": "_3gdzDdhZXln"
   },
   "outputs": [],
   "source": []
  },
  {
   "cell_type": "code",
   "execution_count": null,
   "metadata": {
    "id": "ycHaibWuZXlo"
   },
   "outputs": [],
   "source": []
  },
  {
   "cell_type": "code",
   "execution_count": null,
   "metadata": {
    "id": "xcmZ6F2WZXlo"
   },
   "outputs": [],
   "source": []
  },
  {
   "cell_type": "code",
   "execution_count": null,
   "metadata": {
    "id": "9xEdJGoSZXlo"
   },
   "outputs": [],
   "source": []
  },
  {
   "cell_type": "code",
   "execution_count": null,
   "metadata": {
    "id": "DCZ12jlgZXlo"
   },
   "outputs": [],
   "source": []
  },
  {
   "cell_type": "code",
   "execution_count": null,
   "metadata": {
    "id": "QvWYFY31ZXlo"
   },
   "outputs": [],
   "source": []
  },
  {
   "cell_type": "code",
   "execution_count": null,
   "metadata": {
    "id": "byKahlSDZXlp"
   },
   "outputs": [],
   "source": []
  },
  {
   "cell_type": "code",
   "execution_count": null,
   "metadata": {
    "id": "kfyjo-hOZXlp"
   },
   "outputs": [],
   "source": []
  },
  {
   "cell_type": "code",
   "execution_count": null,
   "metadata": {
    "id": "a8wAvOpHZXlp"
   },
   "outputs": [],
   "source": []
  },
  {
   "cell_type": "markdown",
   "metadata": {
    "id": "hnj01bzLZmuU"
   },
   "source": [
    "풀이"
   ]
  },
  {
   "cell_type": "code",
   "execution_count": null,
   "metadata": {
    "execution": {
     "iopub.execute_input": "2023-11-30T06:43:31.180617Z",
     "iopub.status.busy": "2023-11-30T06:43:31.180155Z",
     "iopub.status.idle": "2023-11-30T06:43:31.231068Z",
     "shell.execute_reply": "2023-11-30T06:43:31.229559Z",
     "shell.execute_reply.started": "2023-11-30T06:43:31.180585Z"
    },
    "id": "MqHDu3cLZXlp"
   },
   "outputs": [],
   "source": [
    "import pandas as pd\n",
    "import statsmodels.api as sm\n",
    "from statsmodels.formula.api import ols\n",
    "df = pd.read_csv(\"/kaggle/input/bigdatacertificationkr/christmas_decoration_sales.csv\")\n",
    "\n",
    "# 이원 분산 분석\n",
    "model = ols('Sales ~ C(Decoration_Type) * C(Region)', data=df).fit()\n",
    "sm.stats.anova_lm(model)"
   ]
  },
  {
   "cell_type": "code",
   "execution_count": null,
   "metadata": {
    "execution": {
     "iopub.execute_input": "2023-11-30T06:44:41.846622Z",
     "iopub.status.busy": "2023-11-30T06:44:41.846168Z",
     "iopub.status.idle": "2023-11-30T06:44:41.851722Z",
     "shell.execute_reply": "2023-11-30T06:44:41.850581Z",
     "shell.execute_reply.started": "2023-11-30T06:44:41.846585Z"
    },
    "id": "87ZTrpBwZXlq"
   },
   "outputs": [],
   "source": [
    "# F-value, P-value\n",
    "# 1. 2.370578, 0.114943\n",
    "# 2. 0.720381, 0.549614\n",
    "# 3. 2.308081, 0.066915"
   ]
  },
  {
   "cell_type": "code",
   "execution_count": null,
   "metadata": {
    "id": "53_6oMQGZXlr"
   },
   "outputs": [],
   "source": []
  }
 ],
 "metadata": {
  "colab": {
   "name": "t3-two-way-anova-py",
   "provenance": []
  },
  "kaggle": {
   "accelerator": "none",
   "dataSources": [
    {
     "datasetId": 1633303,
     "sourceId": 9936200,
     "sourceType": "datasetVersion"
    }
   ],
   "dockerImageVersionId": 30587,
   "isGpuEnabled": false,
   "isInternetEnabled": false,
   "language": "python",
   "sourceType": "notebook"
  },
  "kernelspec": {
   "display_name": "Python 3 (ipykernel)",
   "language": "python",
   "name": "python3"
  },
  "language_info": {
   "codemirror_mode": {
    "name": "ipython",
    "version": 3
   },
   "file_extension": ".py",
   "mimetype": "text/x-python",
   "name": "python",
   "nbconvert_exporter": "python",
   "pygments_lexer": "ipython3",
   "version": "3.10.9"
  }
 },
 "nbformat": 4,
 "nbformat_minor": 1
}
