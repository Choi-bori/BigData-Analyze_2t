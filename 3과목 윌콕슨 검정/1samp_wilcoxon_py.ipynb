{
 "cells": [
  {
   "cell_type": "markdown",
   "metadata": {
    "id": "g2BbZkGuXtrJ"
   },
   "source": [
    "베스킨라빈스는 쿼트(Quart) 아이스크림의 중앙값이 620g이라고 주장하고 있습니다. 저는 실제로 이 아이스크림의 중앙값이 620g보다 무겁다고 주장합니다. 다음은 20개의 쿼트 아이스크림 샘플의 무게 측정 결과입니다. 이 측정 결과를 바탕으로 나의 주장이 사실인지 비모수 검정(Wilcoxon Signed-Rank Test)을 통해 검정해보십시오. p-value값을 반올림하여 소수점 둘째 자리까지 계산\n",
    "\n",
    "- 귀무가설: \"베스킨라빈스 쿼트 아이스크림의 중앙값은 620g이다.\"\n",
    "- 대립가설: \"베스킨라빈스 쿼트 아이스크림의 중앙값은 620g보다 무겁다.\""
   ]
  },
  {
   "cell_type": "code",
   "execution_count": 1,
   "metadata": {
    "id": "qpmXpRY0XtrM"
   },
   "outputs": [],
   "source": [
    "import pandas as pd\n",
    "data = {\n",
    "    \"weight\": [630, 610, 625, 615, 622, 618, 623, 619, 620, 624, 616, 621, 617, 629, 626, 620, 618, 622, 625, 615,\n",
    "               628, 617, 624, 619, 621, 623, 620, 622, 618, 625, 616, 629, 620, 624, 617, 621, 623, 619, 625, 618,\n",
    "               622, 620, 624, 617, 621, 623, 619, 625, 618, 622]\n",
    "}\n",
    "df = pd.DataFrame(data)"
   ]
  },
  {
   "cell_type": "code",
   "execution_count": 10,
   "metadata": {
    "id": "HLLMJH1dXtrN"
   },
   "outputs": [],
   "source": [
    "import scipy.stats as wilcoxon"
   ]
  },
  {
   "cell_type": "code",
   "execution_count": 20,
   "metadata": {
    "id": "gZW1k2Z6XtrO"
   },
   "outputs": [
    {
     "name": "stderr",
     "output_type": "stream",
     "text": [
      "C:\\Users\\b2twt\\anaconda3\\lib\\site-packages\\scipy\\stats\\_morestats.py:3414: UserWarning: Exact p-value calculation does not work if there are zeros. Switching to normal approximation.\n",
      "  warnings.warn(\"Exact p-value calculation does not work if there are \"\n"
     ]
    },
    {
     "data": {
      "text/plain": [
       "0.03"
      ]
     },
     "execution_count": 20,
     "metadata": {},
     "output_type": "execute_result"
    }
   ],
   "source": [
    "\n",
    "# 설정값\n",
    "med = 620\n",
    "round(wilcoxon(df[\"weight\"] - med, alternative='greater')[1],2)"
   ]
  },
  {
   "cell_type": "code",
   "execution_count": null,
   "metadata": {
    "id": "QBa2SmQaXtrO"
   },
   "outputs": [],
   "source": []
  },
  {
   "cell_type": "code",
   "execution_count": null,
   "metadata": {
    "id": "pe6F7mesXtrP"
   },
   "outputs": [],
   "source": []
  },
  {
   "cell_type": "code",
   "execution_count": null,
   "metadata": {
    "id": "KTYXlCYwXtrQ"
   },
   "outputs": [],
   "source": []
  },
  {
   "cell_type": "code",
   "execution_count": null,
   "metadata": {
    "id": "XF5cVSLUXtrR"
   },
   "outputs": [],
   "source": []
  },
  {
   "cell_type": "code",
   "execution_count": null,
   "metadata": {
    "id": "GTVKAeSlXtrS"
   },
   "outputs": [],
   "source": []
  },
  {
   "cell_type": "code",
   "execution_count": null,
   "metadata": {
    "id": "8_RIjeR3XtrS"
   },
   "outputs": [],
   "source": []
  },
  {
   "cell_type": "code",
   "execution_count": null,
   "metadata": {
    "id": "T5SFQN3yXtrS"
   },
   "outputs": [],
   "source": []
  },
  {
   "cell_type": "markdown",
   "metadata": {
    "id": "H2cw_NdFXw_L"
   },
   "source": [
    "풀이"
   ]
  },
  {
   "cell_type": "code",
   "execution_count": 14,
   "metadata": {
    "execution": {
     "iopub.execute_input": "2024-06-18T02:42:24.86804Z",
     "iopub.status.busy": "2024-06-18T02:42:24.867578Z",
     "iopub.status.idle": "2024-06-18T02:42:24.882546Z",
     "shell.execute_reply": "2024-06-18T02:42:24.881343Z",
     "shell.execute_reply.started": "2024-06-18T02:42:24.867997Z"
    },
    "id": "plad-INvXtrS"
   },
   "outputs": [
    {
     "name": "stderr",
     "output_type": "stream",
     "text": [
      "C:\\Users\\b2twt\\anaconda3\\lib\\site-packages\\scipy\\stats\\_morestats.py:3414: UserWarning: Exact p-value calculation does not work if there are zeros. Switching to normal approximation.\n",
      "  warnings.warn(\"Exact p-value calculation does not work if there are \"\n"
     ]
    },
    {
     "data": {
      "text/plain": [
       "WilcoxonResult(statistic=684.0, pvalue=0.029661945180945556)"
      ]
     },
     "execution_count": 14,
     "metadata": {},
     "output_type": "execute_result"
    }
   ],
   "source": [
    "import pandas as pd\n",
    "from scipy.stats import wilcoxon\n",
    "\n",
    "# 데이터 생성\n",
    "data = {\n",
    "    \"weight\": [630, 610, 625, 615, 622, 618, 623, 619, 620, 624, 616, 621, 617, 629, 626, 620, 618, 622, 625, 615,\n",
    "               628, 617, 624, 619, 621, 623, 620, 622, 618, 625, 616, 629, 620, 624, 617, 621, 623, 619, 625, 618,\n",
    "               622, 620, 624, 617, 621, 623, 619, 625, 618, 622]\n",
    "}\n",
    "df = pd.DataFrame(data)\n",
    "\n",
    "# 설정값\n",
    "med = 620\n",
    "\n",
    "# Wilcoxon Signed-Rank Test 수행\n",
    "wilcoxon(df[\"weight\"] - med,alternative='greater')"
   ]
  },
  {
   "cell_type": "code",
   "execution_count": null,
   "metadata": {
    "execution": {
     "iopub.execute_input": "2024-06-18T02:49:49.989483Z",
     "iopub.status.busy": "2024-06-18T02:49:49.989079Z",
     "iopub.status.idle": "2024-06-18T02:49:49.998954Z",
     "shell.execute_reply": "2024-06-18T02:49:49.997822Z",
     "shell.execute_reply.started": "2024-06-18T02:49:49.989453Z"
    },
    "id": "O9vqlKouXtrT"
   },
   "outputs": [],
   "source": [
    "result = wilcoxon(df[\"weight\"] - med, alternative='greater')\n",
    "p_value = round(result.pvalue, 2)\n",
    "print(p_value)"
   ]
  },
  {
   "cell_type": "code",
   "execution_count": null,
   "metadata": {
    "id": "emlC5RtEXtrU"
   },
   "outputs": [],
   "source": []
  },
  {
   "cell_type": "code",
   "execution_count": null,
   "metadata": {
    "id": "AsgI_FdjXtrU"
   },
   "outputs": [],
   "source": []
  }
 ],
 "metadata": {
  "colab": {
   "name": "1samp-wilcoxon-py",
   "provenance": []
  },
  "kaggle": {
   "accelerator": "none",
   "dataSources": [
    {
     "datasetId": 1633303,
     "sourceId": 9936200,
     "sourceType": "datasetVersion"
    }
   ],
   "dockerImageVersionId": 30732,
   "isGpuEnabled": false,
   "isInternetEnabled": false,
   "language": "python",
   "sourceType": "notebook"
  },
  "kernelspec": {
   "display_name": "Python 3 (ipykernel)",
   "language": "python",
   "name": "python3"
  },
  "language_info": {
   "codemirror_mode": {
    "name": "ipython",
    "version": 3
   },
   "file_extension": ".py",
   "mimetype": "text/x-python",
   "name": "python",
   "nbconvert_exporter": "python",
   "pygments_lexer": "ipython3",
   "version": "3.10.9"
  }
 },
 "nbformat": 4,
 "nbformat_minor": 1
}
