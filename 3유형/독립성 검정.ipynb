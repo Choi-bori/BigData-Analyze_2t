{
 "cells": [
  {
   "cell_type": "markdown",
   "metadata": {
    "id": "3-Sz-Oimpwem"
   },
   "source": [
    "## 성별과 시험합격은 독립적인가를 검정하시오!\n",
    "- 1 검정 통계량?\n",
    "- 2 p-value?\n",
    "- 3 귀무가설 기준 (기각/채택)?\n",
    "- 4 남자의 합격 기대 빈도?"
   ]
  },
  {
   "cell_type": "markdown",
   "metadata": {
    "id": "BrF_1KHVpyis"
   },
   "source": [
    "- 남자 : 합격 - 100 / 불합격 - 200\n",
    "- 여자 : 합격 -130 / 불합격 - 170"
   ]
  },
  {
   "cell_type": "code",
   "execution_count": 6,
   "metadata": {},
   "outputs": [],
   "source": [
    "import pandas as pd"
   ]
  },
  {
   "cell_type": "code",
   "execution_count": 7,
   "metadata": {
    "id": "WSKV_suYpyQI"
   },
   "outputs": [],
   "source": [
    "\n",
    "df1 = pd.DataFrame({'남자' : [100, 200] , '여자':[130,170]}, index = ['합격','불합격'])"
   ]
  },
  {
   "cell_type": "code",
   "execution_count": 8,
   "metadata": {
    "id": "JKoWa4mspwes"
   },
   "outputs": [],
   "source": [
    "import scipy.stats as stats"
   ]
  },
  {
   "cell_type": "code",
   "execution_count": 23,
   "metadata": {
    "id": "DbHmgih0pweu"
   },
   "outputs": [
    {
     "name": "stdout",
     "output_type": "stream",
     "text": [
      "검정통계량 : 5.929494712103407\n",
      "p-value : 0.01488951060599475\n",
      "귀무가설 기각\n"
     ]
    }
   ],
   "source": [
    "ans = stats.chi2_contingency(df1)\n",
    "print(f'검정통계량 : {ans[0]}')\n",
    "print(f'p-value : {ans[1]}')\n",
    "\n",
    "if ans[1] < 0.05 : \n",
    "    print ('귀무가설 기각')\n",
    "\n",
    "else:\n",
    "    print ('대립가설 기각')"
   ]
  },
  {
   "cell_type": "code",
   "execution_count": 21,
   "metadata": {
    "id": "IRO_rg5ppwew"
   },
   "outputs": [
    {
     "name": "stdout",
     "output_type": "stream",
     "text": [
      "합격 기대빈도 : 115.0\n"
     ]
    }
   ],
   "source": [
    "print(f'합격 기대빈도 : {ans[3][0][0]}')"
   ]
  },
  {
   "cell_type": "code",
   "execution_count": null,
   "metadata": {
    "id": "b3BsqMCQpwey"
   },
   "outputs": [],
   "source": []
  },
  {
   "cell_type": "code",
   "execution_count": null,
   "metadata": {
    "id": "elzG6INcpwe0"
   },
   "outputs": [],
   "source": []
  },
  {
   "cell_type": "code",
   "execution_count": null,
   "metadata": {
    "id": "5ST6L7hFpwe2"
   },
   "outputs": [],
   "source": []
  },
  {
   "cell_type": "code",
   "execution_count": null,
   "metadata": {
    "id": "Exd1t4GVpwe3"
   },
   "outputs": [],
   "source": []
  },
  {
   "cell_type": "code",
   "execution_count": null,
   "metadata": {
    "id": "axoY8m95pwe4"
   },
   "outputs": [],
   "source": []
  },
  {
   "cell_type": "code",
   "execution_count": null,
   "metadata": {
    "id": "WLwSak2gpwe5"
   },
   "outputs": [],
   "source": []
  },
  {
   "cell_type": "code",
   "execution_count": null,
   "metadata": {
    "id": "0B3cbfCdpwe6"
   },
   "outputs": [],
   "source": []
  },
  {
   "cell_type": "code",
   "execution_count": null,
   "metadata": {
    "id": "0xc-zFyupwe7"
   },
   "outputs": [],
   "source": []
  },
  {
   "cell_type": "code",
   "execution_count": null,
   "metadata": {
    "id": "dZ8zYqHapwe7"
   },
   "outputs": [],
   "source": []
  },
  {
   "cell_type": "code",
   "execution_count": null,
   "metadata": {
    "id": "yDjTiuFcpwe8"
   },
   "outputs": [],
   "source": []
  },
  {
   "cell_type": "code",
   "execution_count": null,
   "metadata": {
    "id": "IwjlZzWepwe8"
   },
   "outputs": [],
   "source": []
  },
  {
   "cell_type": "code",
   "execution_count": null,
   "metadata": {
    "id": "RMD80_zRpwe9"
   },
   "outputs": [],
   "source": []
  },
  {
   "cell_type": "code",
   "execution_count": null,
   "metadata": {
    "id": "eTvKXoGapwe9"
   },
   "outputs": [],
   "source": []
  },
  {
   "cell_type": "code",
   "execution_count": null,
   "metadata": {
    "id": "du4D-Co0pwe-"
   },
   "outputs": [],
   "source": []
  },
  {
   "cell_type": "code",
   "execution_count": 22,
   "metadata": {
    "id": "vrBHASQxpwe-"
   },
   "outputs": [
    {
     "name": "stdout",
     "output_type": "stream",
     "text": [
      "      남자   여자\n",
      "합격   100  130\n",
      "불합격  200  170\n",
      "검정통계량: 5.929494712103407\n",
      "p-value: 0.01488951060599475\n",
      "남자의 합격 기대빈도: 115.0\n"
     ]
    }
   ],
   "source": [
    "import pandas as pd\n",
    "from scipy import stats\n",
    "\n",
    "# 데이터 프레임 생성\n",
    "df = pd.DataFrame({'남자': [100, 200],\n",
    "                   '여자': [130, 170]},\n",
    "                  index=['합격', '불합격'])\n",
    "\n",
    "# 데이터 프레임 출력\n",
    "print(df)\n",
    "\n",
    "# 카이제곱 검정 수행\n",
    "statistic, pvalue, dof, expected = stats.chi2_contingency(df)\n",
    "\n",
    "# 결과 출력\n",
    "print(f'검정통계량: {statistic}')\n",
    "print(f'p-value: {pvalue}')\n",
    "print(f'남자의 합격 기대빈도: {expected[0][0]}')"
   ]
  },
  {
   "cell_type": "markdown",
   "metadata": {
    "id": "xqRdpfAwpwfB"
   },
   "source": [
    "기대 빈도(expected frequency)는 카이제곱 검정(Chi-squared test)에서 매우 중요한 개념입니다. 이는 귀무 가설 하에서 관찰될 것으로 예상되는 빈도입니다. 귀무 가설은 일반적으로 두 변수가 서로 독립적이라고 주장합니다. 이 경우, 성별과 시험 합격 여부가 독립적이라는 것이 귀무 가설입니다.\n",
    "\n",
    "\n",
    "예를 들어, 남자의 합격 기대빈도를 계산하려면 다음과 같이 계산합니다:\n",
    "\n",
    "1. 남자의 총합 (100 + 200)과 합격자의 총합 (100 + 130)을 구합니다.\n",
    "2. 이를 전체 합계(600)로 나눕니다.\n",
    "\n",
    "이렇게 계산된 기대 빈도는, 두 변수가 완전히 독립적일 때 예상되는 빈도를 나타냅니다. 이 기대 빈도와 실제 관찰된 빈도 간의 차이를 분석하여, 두 변수 간의 관련성 여부를 판단합니다.\n",
    "\n",
    "- **큰 차이**: 실제 빈도와 기대 빈도 사이에 큰 차이가 있다면, 이는 두 변수 사이에 어떤 관계가 있을 가능성이 높다는 것을 의미합니다. 이 경우, 귀무 가설을 기각하고 대립 가설을 받아들일 수 있습니다.\n",
    "- **작은 차이**: 차이가 작거나 없다면, 두 변수 사이에 유의미한 관계가 없다고 볼 수 있으며, 귀무 가설을 기각할 충분한 근거가 없습니다.\n",
    "\n",
    "p-value와 함께 기대 빈도는 카이제곱 검정의 핵심 결과 중 하나로, 두 변수 간의 독립성을 평가하는 데 사용됩니다."
   ]
  },
  {
   "cell_type": "code",
   "execution_count": null,
   "metadata": {
    "id": "Z7wNLuWnpwfC"
   },
   "outputs": [],
   "source": []
  }
 ],
 "metadata": {
  "colab": {
   "name": "T3-chi2_contingency-\bpy",
   "provenance": []
  },
  "kaggle": {
   "accelerator": "none",
   "dataSources": [
    {
     "datasetId": 1633303,
     "sourceId": 6865804,
     "sourceType": "datasetVersion"
    }
   ],
   "dockerImageVersionId": 30587,
   "isGpuEnabled": false,
   "isInternetEnabled": true,
   "language": "python",
   "sourceType": "notebook"
  },
  "kernelspec": {
   "display_name": "Python 3 (ipykernel)",
   "language": "python",
   "name": "python3"
  },
  "language_info": {
   "codemirror_mode": {
    "name": "ipython",
    "version": 3
   },
   "file_extension": ".py",
   "mimetype": "text/x-python",
   "name": "python",
   "nbconvert_exporter": "python",
   "pygments_lexer": "ipython3",
   "version": "3.12.4"
  }
 },
 "nbformat": 4,
 "nbformat_minor": 4
}
