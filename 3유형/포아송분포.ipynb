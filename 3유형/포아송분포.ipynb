{
  "metadata": {
    "kernelspec": {
      "language": "python",
      "display_name": "Python 3",
      "name": "python3"
    },
    "language_info": {
      "pygments_lexer": "ipython3",
      "nbconvert_exporter": "python",
      "version": "3.6.4",
      "file_extension": ".py",
      "codemirror_mode": {
        "name": "ipython",
        "version": 3
      },
      "name": "python",
      "mimetype": "text/x-python"
    },
    "colab": {
      "name": "T3-pmf-py",
      "provenance": []
    }
  },
  "nbformat_minor": 0,
  "nbformat": 4,
  "cells": [
    {
      "cell_type": "markdown",
      "source": [
        "## 포아송분포\n",
        "문제: 한 서점에서는 평균적으로 하루에 3명의 고객이 특정 잡지를 구매합니다. 이 데이터는 포아송 분포를 따른다고 가정할 때, 다음 질문에 대한 답을 구하세요.\n",
        "\n",
        "- 하루에 정확히 5명의 고객이 잡지를 구매할 확률은 얼마입니까? (%로 값을 정수로 입력하시오)\n",
        "- 하루에 적어도 2명의 고객이 잡지를 구매할 확률은 얼마입니까? (%로 값을 정수로 입력하시오)"
      ],
      "metadata": {
        "id": "Ij3asYrQpaKh"
      }
    },
    {
      "cell_type": "markdown",
      "source": [
        "- 포아송 분포의 확률 질량 함수(PMF)\n",
        "![image.png](data:image/png;base64,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)\n",
        "\n",
        "- λ는 단위 시간(또는 단위 공간)당 평균 발생 횟수이고, k는 특정 시간(또는 공간) 동안의 이벤트 발생 횟수입니다."
      ],
      "metadata": {
        "id": "fmaWzkRtpaKj"
      }
    },
    {
      "cell_type": "code",
      "source": [],
      "metadata": {
        "id": "Ib6JWX25paKk"
      },
      "execution_count": null,
      "outputs": []
    },
    {
      "cell_type": "code",
      "source": [],
      "metadata": {
        "id": "05sJ3E4ipaKl"
      },
      "execution_count": null,
      "outputs": []
    },
    {
      "cell_type": "code",
      "source": [],
      "metadata": {
        "id": "xE8QoPg6paKl"
      },
      "execution_count": null,
      "outputs": []
    },
    {
      "cell_type": "code",
      "source": [],
      "metadata": {
        "id": "oDG8gaa0paKl"
      },
      "execution_count": null,
      "outputs": []
    },
    {
      "cell_type": "code",
      "source": [],
      "metadata": {
        "id": "_zdbA2nTpaKm"
      },
      "execution_count": null,
      "outputs": []
    },
    {
      "cell_type": "code",
      "source": [],
      "metadata": {
        "id": "qIk3wh5IpaKm"
      },
      "execution_count": null,
      "outputs": []
    },
    {
      "cell_type": "code",
      "source": [],
      "metadata": {
        "id": "BI1V3E22paKn"
      },
      "execution_count": null,
      "outputs": []
    },
    {
      "cell_type": "code",
      "source": [],
      "metadata": {
        "id": "ay97SMQTpaKn"
      },
      "execution_count": null,
      "outputs": []
    },
    {
      "cell_type": "code",
      "source": [],
      "metadata": {
        "id": "QG8icKgspaKn"
      },
      "execution_count": null,
      "outputs": []
    },
    {
      "cell_type": "code",
      "source": [],
      "metadata": {
        "id": "AZaaVqIspaKn"
      },
      "execution_count": null,
      "outputs": []
    },
    {
      "cell_type": "code",
      "source": [],
      "metadata": {
        "id": "xzUCVOXgpaKn"
      },
      "execution_count": null,
      "outputs": []
    },
    {
      "cell_type": "code",
      "source": [],
      "metadata": {
        "id": "Me1AXAHLpaKn"
      },
      "execution_count": null,
      "outputs": []
    },
    {
      "cell_type": "code",
      "source": [],
      "metadata": {
        "id": "7xMyP_6gpaKo"
      },
      "execution_count": null,
      "outputs": []
    },
    {
      "cell_type": "code",
      "source": [],
      "metadata": {
        "id": "9x986aK3paKo"
      },
      "execution_count": null,
      "outputs": []
    },
    {
      "cell_type": "code",
      "source": [],
      "metadata": {
        "id": "Io-OO9_npaKo"
      },
      "execution_count": null,
      "outputs": []
    },
    {
      "cell_type": "code",
      "source": [],
      "metadata": {
        "id": "t0i_8ZunpaKo"
      },
      "execution_count": null,
      "outputs": []
    },
    {
      "cell_type": "code",
      "source": [],
      "metadata": {
        "id": "eXyCTfLapaKo"
      },
      "execution_count": null,
      "outputs": []
    },
    {
      "cell_type": "code",
      "source": [],
      "metadata": {
        "id": "_RaFxX53paKo"
      },
      "execution_count": null,
      "outputs": []
    },
    {
      "cell_type": "code",
      "source": [],
      "metadata": {
        "id": "whFfj58SpaKo"
      },
      "execution_count": null,
      "outputs": []
    },
    {
      "cell_type": "code",
      "source": [],
      "metadata": {
        "id": "BxnywUtNpaKo"
      },
      "execution_count": null,
      "outputs": []
    },
    {
      "cell_type": "code",
      "source": [
        "from scipy.stats import poisson\n",
        "\n",
        "# 평균 발생 횟수 (하루에 잡지를 구매하는 고객 수)\n",
        "lambda_ = 3\n",
        "\n",
        "# 하루에 정확히 5명의 고객이 잡지를 구매할 확률\n",
        "print(poisson.pmf(5, lambda_))"
      ],
      "metadata": {
        "execution": {
          "iopub.status.busy": "2023-11-14T16:09:11.480461Z",
          "iopub.execute_input": "2023-11-14T16:09:11.480811Z",
          "iopub.status.idle": "2023-11-14T16:09:11.487287Z",
          "shell.execute_reply.started": "2023-11-14T16:09:11.480786Z",
          "shell.execute_reply": "2023-11-14T16:09:11.48594Z"
        },
        "trusted": true,
        "id": "C8zEJhB9paKo"
      },
      "execution_count": null,
      "outputs": []
    },
    {
      "cell_type": "markdown",
      "source": [
        "10%"
      ],
      "metadata": {
        "id": "sKT1U3SypaKp"
      }
    },
    {
      "cell_type": "code",
      "source": [
        "# 하루에 적어도 2명의 고객이 잡지를 구매할 확률\n",
        "print(1 - poisson.cdf(1, lambda_))"
      ],
      "metadata": {
        "execution": {
          "iopub.status.busy": "2023-11-14T16:09:35.394995Z",
          "iopub.execute_input": "2023-11-14T16:09:35.395361Z",
          "iopub.status.idle": "2023-11-14T16:09:35.402946Z",
          "shell.execute_reply.started": "2023-11-14T16:09:35.395334Z",
          "shell.execute_reply": "2023-11-14T16:09:35.402128Z"
        },
        "trusted": true,
        "id": "GqgER58NpaKp"
      },
      "execution_count": null,
      "outputs": []
    },
    {
      "cell_type": "markdown",
      "source": [
        "80%"
      ],
      "metadata": {
        "id": "3oZH4fqWpaKp"
      }
    }
  ]
}