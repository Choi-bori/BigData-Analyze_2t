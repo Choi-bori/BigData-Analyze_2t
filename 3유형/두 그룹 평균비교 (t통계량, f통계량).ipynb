{
 "cells": [
  {
   "cell_type": "markdown",
   "metadata": {
    "id": "5_C5g6BFn4xs"
   },
   "source": [
    "## 문제: 두 교육 방법의 효과 비교\n",
    "연구자는 두 가지 다른 교육 방법이 학생들의 성적에 미치는 영향을 비교하고자 합니다. 연구자는 무작위로 선발된 20명의 학생들을 두 그룹으로 나누어 한 그룹에는 교육 방법 A를, 다른 그룹에는 교육 방법 B를 적용합니다. 교육이 끝난 후, 두 그룹의 성적을 비교하기 위해 독립 표본 t-검정과 ANOVA F-검정을 실시하려고 합니다.\n",
    "\n",
    "다음은 두 그룹의 성적입니다:\n",
    "다음의 두 가지 검정을 사용하여 두 교육 방법 간의 성적 차이가 통계적으로 유의한지를 검증하세요\n",
    "\n",
    "1. 독립 표본 t-검정을 실시하여 t 통계량을 구하세요.\n",
    "2. 독립 표본 t-검정을 실시하여 p-값을 구하세요.\n",
    "3. ANOVA F-검정을 실시하여 F 통계량을 구하세요.\n",
    "4. ANOVA F-검정을 실시하여 p-값을 구하세요.\n"
   ]
  },
  {
   "cell_type": "code",
   "execution_count": 1,
   "metadata": {
    "id": "UDCh-2Twn4xu"
   },
   "outputs": [],
   "source": [
    "import pandas as pd\n",
    "df = pd.DataFrame({\n",
    "    'A':[77, 75, 82, 80, 81, 83, 84, 76, 75, 87],\n",
    "    'B':[80, 74, 77, 79, 71, 74, 78, 69, 70, 72],\n",
    "})"
   ]
  },
  {
   "cell_type": "code",
   "execution_count": 2,
   "metadata": {
    "id": "OJ605-BAn4xu"
   },
   "outputs": [],
   "source": [
    "import scipy.stats as stats"
   ]
  },
  {
   "cell_type": "code",
   "execution_count": 3,
   "metadata": {
    "id": "vLsypfR7n4xv"
   },
   "outputs": [
    {
     "name": "stdout",
     "output_type": "stream",
     "text": [
      "t 통계량 : 3.1068522301122954\n",
      "p-values : 0.006087373605949963\n"
     ]
    }
   ],
   "source": [
    "ans1 = stats.ttest_ind(df['A'],df['B'])\n",
    "print(f't 통계량 : {ans1[0]}')\n",
    "print(f'p-values : {ans1[1]}')"
   ]
  },
  {
   "cell_type": "code",
   "execution_count": 8,
   "metadata": {
    "id": "sNedcWjYn4xw"
   },
   "outputs": [
    {
     "name": "stdout",
     "output_type": "stream",
     "text": [
      "t 통계량 : 9.652530779753763\n",
      "p-values : 0.006087373605949924\n"
     ]
    }
   ],
   "source": [
    "ans2 = stats.f_oneway(df['A'],df['B'])\n",
    "print(f't 통계량 : {ans2[0]}')\n",
    "print(f'p-values : {ans2[1]}')"
   ]
  },
  {
   "cell_type": "code",
   "execution_count": null,
   "metadata": {
    "id": "cXozJggPn4xw"
   },
   "outputs": [],
   "source": []
  },
  {
   "cell_type": "code",
   "execution_count": null,
   "metadata": {
    "id": "U8GGeIspn4xw"
   },
   "outputs": [],
   "source": []
  },
  {
   "cell_type": "code",
   "execution_count": null,
   "metadata": {
    "id": "JEi1vwy9n4xx"
   },
   "outputs": [],
   "source": []
  },
  {
   "cell_type": "code",
   "execution_count": null,
   "metadata": {
    "id": "1RgGnXZqn4xx"
   },
   "outputs": [],
   "source": []
  },
  {
   "cell_type": "code",
   "execution_count": null,
   "metadata": {
    "id": "k-5AAaVCn4xy"
   },
   "outputs": [],
   "source": []
  },
  {
   "cell_type": "code",
   "execution_count": null,
   "metadata": {
    "id": "XdYcijOKn4xy"
   },
   "outputs": [],
   "source": []
  },
  {
   "cell_type": "code",
   "execution_count": null,
   "metadata": {
    "id": "SrsbE9GNn4xy"
   },
   "outputs": [],
   "source": []
  },
  {
   "cell_type": "code",
   "execution_count": null,
   "metadata": {
    "id": "9Ek12kQOn4xy"
   },
   "outputs": [],
   "source": []
  },
  {
   "cell_type": "code",
   "execution_count": null,
   "metadata": {
    "id": "hIMUYjBen4xy"
   },
   "outputs": [],
   "source": []
  },
  {
   "cell_type": "code",
   "execution_count": null,
   "metadata": {
    "id": "TgXcd-nsn4xy"
   },
   "outputs": [],
   "source": []
  },
  {
   "cell_type": "code",
   "execution_count": null,
   "metadata": {
    "id": "KUFqgGF9n4xz"
   },
   "outputs": [],
   "source": []
  },
  {
   "cell_type": "code",
   "execution_count": null,
   "metadata": {
    "id": "N1oC52SBn4xz"
   },
   "outputs": [],
   "source": []
  },
  {
   "cell_type": "code",
   "execution_count": null,
   "metadata": {
    "id": "kNo_G01En4xz"
   },
   "outputs": [],
   "source": []
  },
  {
   "cell_type": "code",
   "execution_count": null,
   "metadata": {
    "id": "BckmIOIln4xz"
   },
   "outputs": [],
   "source": []
  },
  {
   "cell_type": "code",
   "execution_count": null,
   "metadata": {
    "id": "GHP-FZydn4xz"
   },
   "outputs": [],
   "source": []
  },
  {
   "cell_type": "code",
   "execution_count": null,
   "metadata": {
    "id": "ZxOciBGMn4xz"
   },
   "outputs": [],
   "source": []
  },
  {
   "cell_type": "code",
   "execution_count": null,
   "metadata": {
    "id": "qUUGq4vWn4xz"
   },
   "outputs": [],
   "source": []
  },
  {
   "cell_type": "code",
   "execution_count": null,
   "metadata": {
    "id": "2qrDyI18n4xz"
   },
   "outputs": [],
   "source": []
  },
  {
   "cell_type": "code",
   "execution_count": null,
   "metadata": {
    "id": "P5vflnrEn4x0"
   },
   "outputs": [],
   "source": []
  },
  {
   "cell_type": "code",
   "execution_count": null,
   "metadata": {
    "id": "-oHb0R_Nn4x0"
   },
   "outputs": [],
   "source": []
  },
  {
   "cell_type": "markdown",
   "metadata": {
    "id": "q5aOefacn6pN"
   },
   "source": [
    "풀이"
   ]
  },
  {
   "cell_type": "code",
   "execution_count": 2,
   "metadata": {
    "colab": {
     "base_uri": "https://localhost:8080/"
    },
    "execution": {
     "iopub.execute_input": "2023-11-03T19:27:27.86085Z",
     "iopub.status.busy": "2023-11-03T19:27:27.860451Z",
     "iopub.status.idle": "2023-11-03T19:27:27.872345Z",
     "shell.execute_reply": "2023-11-03T19:27:27.871083Z",
     "shell.execute_reply.started": "2023-11-03T19:27:27.860809Z"
    },
    "id": "IxMiTp43n4x0",
    "outputId": "68ca8a67-7b0f-4e9a-f12b-9153676d1931"
   },
   "outputs": [
    {
     "name": "stdout",
     "output_type": "stream",
     "text": [
      "TtestResult(statistic=3.1068522301122954, pvalue=0.006087373605949963, df=18.0)\n"
     ]
    },
    {
     "data": {
      "text/plain": [
       "F_onewayResult(statistic=9.652530779753763, pvalue=0.006087373605949924)"
      ]
     },
     "execution_count": 2,
     "metadata": {},
     "output_type": "execute_result"
    }
   ],
   "source": [
    "from scipy import stats\n",
    "print(stats.ttest_ind(df['A'], df['B']))\n",
    "\n",
    "# 다음으로 ANOVA F-검정을 수행합니다.\n",
    "stats.f_oneway(df['A'], df['B'])"
   ]
  },
  {
   "cell_type": "markdown",
   "metadata": {
    "id": "saj4syJxoKji"
   },
   "source": [
    "1. 독립 표본 t-검정을 실시하여 t 통계량을 구하세요. 3.1068522301122954\n",
    "2. 독립 표본 t-검정을 실시하여 p-값을 구하세요. 0.006087373605949963\n",
    "3. ANOVA F-검정을 실시하여 F 통계량을 구하세요. 9.652530779753763\n",
    "4. ANOVA F-검정을 실시하여 p-값을 구하세요. 0.006087373605949924"
   ]
  },
  {
   "cell_type": "code",
   "execution_count": null,
   "metadata": {
    "id": "ZB9fHDWXoG74"
   },
   "outputs": [],
   "source": []
  }
 ],
 "metadata": {
  "colab": {
   "name": "T3-ttest-anova-py",
   "provenance": []
  },
  "kernelspec": {
   "display_name": "Python 3 (ipykernel)",
   "language": "python",
   "name": "python3"
  },
  "language_info": {
   "codemirror_mode": {
    "name": "ipython",
    "version": 3
   },
   "file_extension": ".py",
   "mimetype": "text/x-python",
   "name": "python",
   "nbconvert_exporter": "python",
   "pygments_lexer": "ipython3",
   "version": "3.12.4"
  }
 },
 "nbformat": 4,
 "nbformat_minor": 4
}
