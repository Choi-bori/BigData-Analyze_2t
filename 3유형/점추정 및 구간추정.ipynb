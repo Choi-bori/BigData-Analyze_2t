{
 "cells": [
  {
   "cell_type": "markdown",
   "metadata": {
    "id": "obLsgC7QqncC"
   },
   "source": [
    "## 점 추정과 구간 추정\n",
    "데이터셋은 어떤 도시의 일일 평균 온도 입니다.\n",
    "\n",
    "- 점추정: 데이터셋을 기반으로 이 도시의 평균 연간 온도를 점추정하세요. (반올림하여 소수 둘째자리까지)\n",
    "- 구간추정: 95% 신뢰수준에서 이 도시의 평균 연간 온도에 대한 신뢰구간을 구하세요.  (반올림하여 소수 둘째자리까지)"
   ]
  },
  {
   "cell_type": "code",
   "execution_count": 1,
   "metadata": {
    "id": "s-JXArzAqncF"
   },
   "outputs": [],
   "source": [
    "# 경로 맞게 바꾸세요\n",
    "import pandas as pd\n",
    "temperature_data = pd.read_csv(\"점추정 및 구간추정.csv\")"
   ]
  },
  {
   "cell_type": "code",
   "execution_count": 7,
   "metadata": {
    "id": "Pdm_hEX_qncG"
   },
   "outputs": [
    {
     "data": {
      "text/plain": [
       "19.937577543978538"
      ]
     },
     "execution_count": 7,
     "metadata": {},
     "output_type": "execute_result"
    }
   ],
   "source": [
    "df = temperature_data \n",
    "df['Daily Average Temperature'].mean()"
   ]
  },
  {
   "cell_type": "code",
   "execution_count": null,
   "metadata": {
    "id": "v7OzTiTSqncH"
   },
   "outputs": [],
   "source": [
    "df"
   ]
  },
  {
   "cell_type": "code",
   "execution_count": 13,
   "metadata": {
    "id": "pn6720ddqncH"
   },
   "outputs": [
    {
     "name": "stdout",
     "output_type": "stream",
     "text": [
      "Help on method interval in module scipy.stats._distn_infrastructure:\n",
      "\n",
      "interval(confidence, *args, **kwds) method of scipy.stats._continuous_distns.t_gen instance\n",
      "    Confidence interval with equal areas around the median.\n",
      "\n",
      "    Parameters\n",
      "    ----------\n",
      "    confidence : array_like of float\n",
      "        Probability that an rv will be drawn from the returned range.\n",
      "        Each value should be in the range [0, 1].\n",
      "    arg1, arg2, ... : array_like\n",
      "        The shape parameter(s) for the distribution (see docstring of the\n",
      "        instance object for more information).\n",
      "    loc : array_like, optional\n",
      "        location parameter, Default is 0.\n",
      "    scale : array_like, optional\n",
      "        scale parameter, Default is 1.\n",
      "\n",
      "    Returns\n",
      "    -------\n",
      "    a, b : ndarray of float\n",
      "        end-points of range that contain ``100 * alpha %`` of the rv's\n",
      "        possible values.\n",
      "\n",
      "    Notes\n",
      "    -----\n",
      "    This is implemented as ``ppf([p_tail, 1-p_tail])``, where\n",
      "    ``ppf`` is the inverse cumulative distribution function and\n",
      "    ``p_tail = (1-confidence)/2``. Suppose ``[c, d]`` is the support of a\n",
      "    discrete distribution; then ``ppf([0, 1]) == (c-1, d)``. Therefore,\n",
      "    when ``confidence=1`` and the distribution is discrete, the left end\n",
      "    of the interval will be beyond the support of the distribution.\n",
      "    For discrete distributions, the interval will limit the probability\n",
      "    in each tail to be less than or equal to ``p_tail`` (usually\n",
      "    strictly less).\n",
      "\n"
     ]
    }
   ],
   "source": [
    "help(stats.t.interval)"
   ]
  },
  {
   "cell_type": "code",
   "execution_count": null,
   "metadata": {
    "id": "Mt_UvlmwqncI"
   },
   "outputs": [],
   "source": []
  },
  {
   "cell_type": "code",
   "execution_count": null,
   "metadata": {
    "id": "OerwKsq4qncJ"
   },
   "outputs": [],
   "source": []
  },
  {
   "cell_type": "code",
   "execution_count": null,
   "metadata": {
    "id": "SSnIVCFlqncJ"
   },
   "outputs": [],
   "source": []
  },
  {
   "cell_type": "code",
   "execution_count": null,
   "metadata": {
    "id": "Nx-XpfmVqncK"
   },
   "outputs": [],
   "source": []
  },
  {
   "cell_type": "code",
   "execution_count": null,
   "metadata": {
    "id": "IaCy0EsfqncK"
   },
   "outputs": [],
   "source": []
  },
  {
   "cell_type": "code",
   "execution_count": null,
   "metadata": {
    "id": "tqufNJ9WqncL"
   },
   "outputs": [],
   "source": []
  },
  {
   "cell_type": "code",
   "execution_count": null,
   "metadata": {
    "id": "63pD4wSHqncL"
   },
   "outputs": [],
   "source": []
  },
  {
   "cell_type": "code",
   "execution_count": null,
   "metadata": {
    "id": "0qKntEdJqncM"
   },
   "outputs": [],
   "source": []
  },
  {
   "cell_type": "code",
   "execution_count": null,
   "metadata": {
    "id": "I_Meu2kNqncM"
   },
   "outputs": [],
   "source": []
  },
  {
   "cell_type": "code",
   "execution_count": null,
   "metadata": {
    "id": "uMn1F20qqncM"
   },
   "outputs": [],
   "source": []
  },
  {
   "cell_type": "code",
   "execution_count": null,
   "metadata": {
    "id": "QY6ActAcqncM"
   },
   "outputs": [],
   "source": []
  },
  {
   "cell_type": "code",
   "execution_count": 10,
   "metadata": {
    "id": "azE5Hl4rqncN"
   },
   "outputs": [
    {
     "data": {
      "text/plain": [
       "(19.937577543978538, (19.427887094620406, 20.44726799333667))"
      ]
     },
     "execution_count": 10,
     "metadata": {},
     "output_type": "execute_result"
    }
   ],
   "source": [
    "import pandas as pd\n",
    "from scipy import stats\n",
    "# CSV 파일 불러오기\n",
    "# temperature_data = pd.read_csv(\"/kaggle/input/bigdatacertificationkr/daily_temperatures.csv\")\n",
    "\n",
    "# 점추정: 샘플 평균 계산\n",
    "sample_mean = temperature_data['Daily Average Temperature'].mean()\n",
    "\n",
    "# 구간추정: 샘플 표준편차 계산 및 신뢰구간 계산\n",
    "confidence_level = 0.95\n",
    "sample_std = temperature_data['Daily Average Temperature'].std()  # 자유도 n-1로 설정\n",
    "n_samples = len(temperature_data)\n",
    "\n",
    "# 95% 신뢰구간 계산\n",
    "confidence_interval = stats.t.interval(confidence_level, df=n_samples-1, loc=sample_mean, scale=sample_std/(n_samples**0.5))\n",
    "\n",
    "sample_mean, confidence_interval"
   ]
  },
  {
   "cell_type": "code",
   "execution_count": 11,
   "metadata": {
    "id": "kRGQPxUXqncO"
   },
   "outputs": [
    {
     "data": {
      "text/plain": [
       "4.951746576285235"
      ]
     },
     "execution_count": 11,
     "metadata": {},
     "output_type": "execute_result"
    }
   ],
   "source": [
    "sample_std"
   ]
  },
  {
   "cell_type": "code",
   "execution_count": null,
   "metadata": {},
   "outputs": [],
   "source": [
    "c"
   ]
  }
 ],
 "metadata": {
  "colab": {
   "name": "t3-confidence_interval-py",
   "provenance": []
  },
  "kaggle": {
   "accelerator": "none",
   "dataSources": [
    {
     "datasetId": 1633303,
     "sourceId": 9936200,
     "sourceType": "datasetVersion"
    }
   ],
   "dockerImageVersionId": 30587,
   "isGpuEnabled": false,
   "isInternetEnabled": false,
   "language": "python",
   "sourceType": "notebook"
  },
  "kernelspec": {
   "display_name": "Python 3 (ipykernel)",
   "language": "python",
   "name": "python3"
  },
  "language_info": {
   "codemirror_mode": {
    "name": "ipython",
    "version": 3
   },
   "file_extension": ".py",
   "mimetype": "text/x-python",
   "name": "python",
   "nbconvert_exporter": "python",
   "pygments_lexer": "ipython3",
   "version": "3.12.4"
  }
 },
 "nbformat": 4,
 "nbformat_minor": 4
}
